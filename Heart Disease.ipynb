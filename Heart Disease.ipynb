{
 "cells": [
  {
   "cell_type": "markdown",
   "metadata": {},
   "source": [
    "# Heart Disease\n",
    "\n",
    "**Elaborato di progetto di Programmazione di Applicazioni Data Intensive**  \n",
    "\n",
    "Laurea in Ingegneria e Scienze Informatiche  \n",
    "DISI - Università di Bologna, Cesena  \n",
    "A.A. 2018/2019  \n",
    "\n",
    "Marco Meluzzi  \n",
    "marco.meluzzi@studio.unibo.it"
   ]
  },
  {
   "cell_type": "markdown",
   "metadata": {},
   "source": [
    "## Descrizione del problema\n",
    "Il problema che ci si propone di affrontare si basa sul dataset **_Heart Disease_** reperibile all'interno del repository di Machine Learning dell'Università della California, Irvine (UCI) al seguente link: https://archive.ics.uci.edu/ml/datasets/Heart+Disease.\n",
    "Il database contiene dati riguardanti la diagnosi di malattie cardiache e si compone dei dati raccolti da quattro diversi autori in altrettanti ospedali, nello specifico:\n",
    "- Hungarian Institute of Cardiology. Budapest: Andras Janosi, M.D. \n",
    "- University Hospital, Zurich, Switzerland: William Steinbrunn, M.D. \n",
    "- University Hospital, Basel, Switzerland: Matthias Pfisterer, M.D. \n",
    "- V.A. Medical Center, Long Beach and Cleveland Clinic Foundation: Robert Detrano, M.D., Ph.D.  \n",
    "\n",
    "In tutti gli esperimenti che sono stati pubblicati fino ad ora al rigurado, è stato utilizzato unicamente il database di Cleveland; inoltre, benché il database originario si componesse di 76 attributi, le precedenti analisi si sono basate solo sul sottoinsieme dei 14 più significatvi. Pertanto anche in questa sede si è deciso di focalizzare l'attenzione unicamente su questo dataset e su questo sottoinsieme di attributi.\n",
    "\n",
    "L'obiettivo che ci si pone di raggiungere è quello di rilevare la presenza o meno di una malattia cardiaca nel paziente."
   ]
  },
  {
   "cell_type": "markdown",
   "metadata": {},
   "source": [
    "## Reperimento dei dati\n",
    "- Prima di iniziare si procede con l'importazione dei package necessari che verranno utilizzati"
   ]
  },
  {
   "cell_type": "code",
   "execution_count": 1,
   "metadata": {},
   "outputs": [],
   "source": [
    "import numpy as np\n",
    "import pandas as pd\n",
    "import matplotlib.pyplot as plt\n",
    "\n",
    "import warnings; warnings.simplefilter(\"ignore\")"
   ]
  },
  {
   "cell_type": "markdown",
   "metadata": {},
   "source": [
    "- Configurazione dell'output di _matplotlib_ integrato nel notebook"
   ]
  },
  {
   "cell_type": "code",
   "execution_count": 2,
   "metadata": {},
   "outputs": [],
   "source": [
    "%matplotlib inline"
   ]
  },
  {
   "cell_type": "markdown",
   "metadata": {},
   "source": [
    "- Di seguito si riporta il codice per reperire i soli file e dataset che verranno utilizzati, se non già presenti nella directory corrente"
   ]
  },
  {
   "cell_type": "code",
   "execution_count": 3,
   "metadata": {},
   "outputs": [],
   "source": [
    "import os.path\n",
    "if not os.path.exists(\"heart-disease.data\"):\n",
    "    from urllib.request import urlretrieve\n",
    "    urlretrieve(\"https://archive.ics.uci.edu/ml/machine-learning-databases/heart-disease/processed.cleveland.data\", \"heart-disease.data\")"
   ]
  },
  {
   "cell_type": "code",
   "execution_count": 4,
   "metadata": {},
   "outputs": [],
   "source": [
    "import os.path\n",
    "if not os.path.exists(\"heart-disease.names\"):\n",
    "    from urllib.request import urlretrieve\n",
    "    urlretrieve(\"https://archive.ics.uci.edu/ml/machine-learning-databases/heart-disease/heart-disease.names\", \"info.txt\")"
   ]
  },
  {
   "cell_type": "markdown",
   "metadata": {},
   "source": [
    "- Si converte il dataset appena scaricato in formato CSV"
   ]
  },
  {
   "cell_type": "code",
   "execution_count": 5,
   "metadata": {},
   "outputs": [],
   "source": [
    "data = pd.read_csv(\"heart-disease.data\", header=None, sep=\",\")"
   ]
  },
  {
   "cell_type": "code",
   "execution_count": 6,
   "metadata": {},
   "outputs": [
    {
     "data": {
      "text/html": [
       "<div>\n",
       "<style scoped>\n",
       "    .dataframe tbody tr th:only-of-type {\n",
       "        vertical-align: middle;\n",
       "    }\n",
       "\n",
       "    .dataframe tbody tr th {\n",
       "        vertical-align: top;\n",
       "    }\n",
       "\n",
       "    .dataframe thead th {\n",
       "        text-align: right;\n",
       "    }\n",
       "</style>\n",
       "<table border=\"1\" class=\"dataframe\">\n",
       "  <thead>\n",
       "    <tr style=\"text-align: right;\">\n",
       "      <th></th>\n",
       "      <th>0</th>\n",
       "      <th>1</th>\n",
       "      <th>2</th>\n",
       "      <th>3</th>\n",
       "      <th>4</th>\n",
       "      <th>5</th>\n",
       "      <th>6</th>\n",
       "      <th>7</th>\n",
       "      <th>8</th>\n",
       "      <th>9</th>\n",
       "      <th>10</th>\n",
       "      <th>11</th>\n",
       "      <th>12</th>\n",
       "      <th>13</th>\n",
       "    </tr>\n",
       "  </thead>\n",
       "  <tbody>\n",
       "    <tr>\n",
       "      <th>0</th>\n",
       "      <td>63.0</td>\n",
       "      <td>1.0</td>\n",
       "      <td>1.0</td>\n",
       "      <td>145.0</td>\n",
       "      <td>233.0</td>\n",
       "      <td>1.0</td>\n",
       "      <td>2.0</td>\n",
       "      <td>150.0</td>\n",
       "      <td>0.0</td>\n",
       "      <td>2.3</td>\n",
       "      <td>3.0</td>\n",
       "      <td>0.0</td>\n",
       "      <td>6.0</td>\n",
       "      <td>0</td>\n",
       "    </tr>\n",
       "    <tr>\n",
       "      <th>1</th>\n",
       "      <td>67.0</td>\n",
       "      <td>1.0</td>\n",
       "      <td>4.0</td>\n",
       "      <td>160.0</td>\n",
       "      <td>286.0</td>\n",
       "      <td>0.0</td>\n",
       "      <td>2.0</td>\n",
       "      <td>108.0</td>\n",
       "      <td>1.0</td>\n",
       "      <td>1.5</td>\n",
       "      <td>2.0</td>\n",
       "      <td>3.0</td>\n",
       "      <td>3.0</td>\n",
       "      <td>2</td>\n",
       "    </tr>\n",
       "    <tr>\n",
       "      <th>2</th>\n",
       "      <td>67.0</td>\n",
       "      <td>1.0</td>\n",
       "      <td>4.0</td>\n",
       "      <td>120.0</td>\n",
       "      <td>229.0</td>\n",
       "      <td>0.0</td>\n",
       "      <td>2.0</td>\n",
       "      <td>129.0</td>\n",
       "      <td>1.0</td>\n",
       "      <td>2.6</td>\n",
       "      <td>2.0</td>\n",
       "      <td>2.0</td>\n",
       "      <td>7.0</td>\n",
       "      <td>1</td>\n",
       "    </tr>\n",
       "    <tr>\n",
       "      <th>3</th>\n",
       "      <td>37.0</td>\n",
       "      <td>1.0</td>\n",
       "      <td>3.0</td>\n",
       "      <td>130.0</td>\n",
       "      <td>250.0</td>\n",
       "      <td>0.0</td>\n",
       "      <td>0.0</td>\n",
       "      <td>187.0</td>\n",
       "      <td>0.0</td>\n",
       "      <td>3.5</td>\n",
       "      <td>3.0</td>\n",
       "      <td>0.0</td>\n",
       "      <td>3.0</td>\n",
       "      <td>0</td>\n",
       "    </tr>\n",
       "    <tr>\n",
       "      <th>4</th>\n",
       "      <td>41.0</td>\n",
       "      <td>0.0</td>\n",
       "      <td>2.0</td>\n",
       "      <td>130.0</td>\n",
       "      <td>204.0</td>\n",
       "      <td>0.0</td>\n",
       "      <td>2.0</td>\n",
       "      <td>172.0</td>\n",
       "      <td>0.0</td>\n",
       "      <td>1.4</td>\n",
       "      <td>1.0</td>\n",
       "      <td>0.0</td>\n",
       "      <td>3.0</td>\n",
       "      <td>0</td>\n",
       "    </tr>\n",
       "  </tbody>\n",
       "</table>\n",
       "</div>"
      ],
      "text/plain": [
       "     0    1    2      3      4    5    6      7    8    9    10   11   12  13\n",
       "0  63.0  1.0  1.0  145.0  233.0  1.0  2.0  150.0  0.0  2.3  3.0  0.0  6.0   0\n",
       "1  67.0  1.0  4.0  160.0  286.0  0.0  2.0  108.0  1.0  1.5  2.0  3.0  3.0   2\n",
       "2  67.0  1.0  4.0  120.0  229.0  0.0  2.0  129.0  1.0  2.6  2.0  2.0  7.0   1\n",
       "3  37.0  1.0  3.0  130.0  250.0  0.0  0.0  187.0  0.0  3.5  3.0  0.0  3.0   0\n",
       "4  41.0  0.0  2.0  130.0  204.0  0.0  2.0  172.0  0.0  1.4  1.0  0.0  3.0   0"
      ]
     },
     "execution_count": 6,
     "metadata": {},
     "output_type": "execute_result"
    }
   ],
   "source": [
    "data.head()"
   ]
  },
  {
   "cell_type": "markdown",
   "metadata": {},
   "source": [
    "- Si nota che nel file appena importato non è presente la riga di header, pertanto si inseriscono manualmente i nomi delle colonne, che possono essere letti dal file _info.txt_, contenenete la descrizione generale del problema e dei dataset sopra citati"
   ]
  },
  {
   "cell_type": "code",
   "execution_count": 7,
   "metadata": {},
   "outputs": [
    {
     "data": {
      "text/html": [
       "<div>\n",
       "<style scoped>\n",
       "    .dataframe tbody tr th:only-of-type {\n",
       "        vertical-align: middle;\n",
       "    }\n",
       "\n",
       "    .dataframe tbody tr th {\n",
       "        vertical-align: top;\n",
       "    }\n",
       "\n",
       "    .dataframe thead th {\n",
       "        text-align: right;\n",
       "    }\n",
       "</style>\n",
       "<table border=\"1\" class=\"dataframe\">\n",
       "  <thead>\n",
       "    <tr style=\"text-align: right;\">\n",
       "      <th></th>\n",
       "      <th>AGE</th>\n",
       "      <th>SEX</th>\n",
       "      <th>CP</th>\n",
       "      <th>TRESTBPS</th>\n",
       "      <th>CHOL</th>\n",
       "      <th>FBS</th>\n",
       "      <th>RESTECG</th>\n",
       "      <th>THALACH</th>\n",
       "      <th>EXANG</th>\n",
       "      <th>OLDPEAK</th>\n",
       "      <th>SLOPE</th>\n",
       "      <th>CA</th>\n",
       "      <th>THAL</th>\n",
       "      <th>DIAGNOSIS</th>\n",
       "    </tr>\n",
       "  </thead>\n",
       "  <tbody>\n",
       "    <tr>\n",
       "      <th>0</th>\n",
       "      <td>63.0</td>\n",
       "      <td>1.0</td>\n",
       "      <td>1.0</td>\n",
       "      <td>145.0</td>\n",
       "      <td>233.0</td>\n",
       "      <td>1.0</td>\n",
       "      <td>2.0</td>\n",
       "      <td>150.0</td>\n",
       "      <td>0.0</td>\n",
       "      <td>2.3</td>\n",
       "      <td>3.0</td>\n",
       "      <td>0.0</td>\n",
       "      <td>6.0</td>\n",
       "      <td>0</td>\n",
       "    </tr>\n",
       "    <tr>\n",
       "      <th>1</th>\n",
       "      <td>67.0</td>\n",
       "      <td>1.0</td>\n",
       "      <td>4.0</td>\n",
       "      <td>160.0</td>\n",
       "      <td>286.0</td>\n",
       "      <td>0.0</td>\n",
       "      <td>2.0</td>\n",
       "      <td>108.0</td>\n",
       "      <td>1.0</td>\n",
       "      <td>1.5</td>\n",
       "      <td>2.0</td>\n",
       "      <td>3.0</td>\n",
       "      <td>3.0</td>\n",
       "      <td>2</td>\n",
       "    </tr>\n",
       "    <tr>\n",
       "      <th>2</th>\n",
       "      <td>67.0</td>\n",
       "      <td>1.0</td>\n",
       "      <td>4.0</td>\n",
       "      <td>120.0</td>\n",
       "      <td>229.0</td>\n",
       "      <td>0.0</td>\n",
       "      <td>2.0</td>\n",
       "      <td>129.0</td>\n",
       "      <td>1.0</td>\n",
       "      <td>2.6</td>\n",
       "      <td>2.0</td>\n",
       "      <td>2.0</td>\n",
       "      <td>7.0</td>\n",
       "      <td>1</td>\n",
       "    </tr>\n",
       "    <tr>\n",
       "      <th>3</th>\n",
       "      <td>37.0</td>\n",
       "      <td>1.0</td>\n",
       "      <td>3.0</td>\n",
       "      <td>130.0</td>\n",
       "      <td>250.0</td>\n",
       "      <td>0.0</td>\n",
       "      <td>0.0</td>\n",
       "      <td>187.0</td>\n",
       "      <td>0.0</td>\n",
       "      <td>3.5</td>\n",
       "      <td>3.0</td>\n",
       "      <td>0.0</td>\n",
       "      <td>3.0</td>\n",
       "      <td>0</td>\n",
       "    </tr>\n",
       "    <tr>\n",
       "      <th>4</th>\n",
       "      <td>41.0</td>\n",
       "      <td>0.0</td>\n",
       "      <td>2.0</td>\n",
       "      <td>130.0</td>\n",
       "      <td>204.0</td>\n",
       "      <td>0.0</td>\n",
       "      <td>2.0</td>\n",
       "      <td>172.0</td>\n",
       "      <td>0.0</td>\n",
       "      <td>1.4</td>\n",
       "      <td>1.0</td>\n",
       "      <td>0.0</td>\n",
       "      <td>3.0</td>\n",
       "      <td>0</td>\n",
       "    </tr>\n",
       "  </tbody>\n",
       "</table>\n",
       "</div>"
      ],
      "text/plain": [
       "    AGE  SEX   CP  TRESTBPS   CHOL  FBS  RESTECG  THALACH  EXANG  OLDPEAK  \\\n",
       "0  63.0  1.0  1.0     145.0  233.0  1.0      2.0    150.0    0.0      2.3   \n",
       "1  67.0  1.0  4.0     160.0  286.0  0.0      2.0    108.0    1.0      1.5   \n",
       "2  67.0  1.0  4.0     120.0  229.0  0.0      2.0    129.0    1.0      2.6   \n",
       "3  37.0  1.0  3.0     130.0  250.0  0.0      0.0    187.0    0.0      3.5   \n",
       "4  41.0  0.0  2.0     130.0  204.0  0.0      2.0    172.0    0.0      1.4   \n",
       "\n",
       "   SLOPE   CA THAL  DIAGNOSIS  \n",
       "0    3.0  0.0  6.0          0  \n",
       "1    2.0  3.0  3.0          2  \n",
       "2    2.0  2.0  7.0          1  \n",
       "3    3.0  0.0  3.0          0  \n",
       "4    1.0  0.0  3.0          0  "
      ]
     },
     "execution_count": 7,
     "metadata": {},
     "output_type": "execute_result"
    }
   ],
   "source": [
    "data.columns = \"AGE SEX CP TRESTBPS CHOL FBS RESTECG THALACH EXANG OLDPEAK \\\n",
    "                SLOPE CA THAL DIAGNOSIS\".split()\n",
    "data.head()"
   ]
  },
  {
   "cell_type": "markdown",
   "metadata": {},
   "source": [
    "### Descrizione delle variabili\n",
    "- **`AGE`**: età in anni\n",
    "- **`SEX`**: sesso\n",
    "    - (1 = maschio, 0 = femmina)\n",
    "- **`CP`**: tipo di dolore toracico\n",
    "    - (1 = angina tipica, 2 = angina atipica, 3 = dolore non anginoso, 4 = asintomatico)\n",
    "- **`TRESTBPS`**: pressione sanguigna a riposo (misurata in mmHg all'ammissione in ospedale)\n",
    "- **`CHOL`**: colesterolo sierico in mg/dL\n",
    "- **`FBS`**: livello di glucosio nel sangue a digiuno (glicemia) > 120 mg/dL\n",
    "    - (1 = vero, 0 = falso)\n",
    "- **`RESTECG`**: risultati elettrocardiografici a riposo\n",
    "    - (0 = normale, 1 = con anomalie nel segmento ST-T (inversioni dell'onda T e/o elevazione/depressione dell'onda ST > 0.05 mV), 2 = con probabile o certa ipertrofia ventricolare sinistra secondo i criteri di Estes)\n",
    "- **`THALACH`**: battito cardiaco massimo raggiunto\n",
    "- **`EXANG`**: angina indotta da esercizio fisico\n",
    "    - (1 = sì, 0 = no)\n",
    "- **`OLDPEAK`**: depressione dell'onda ST indotta dall'esercizio fisico rispetto al riposo\n",
    "- **`SLOPE`**: pendenza di picco del segmento ST\n",
    "    - (1 = in salita, 2 = piatta, 3 = in discesa)\n",
    "- **`CA`**: numero di vasi principali colorati dalla fluoroscopia\n",
    "    - (da 0 a 3)\n",
    "- **`THAL`**: talassemia\n",
    "    - (3 = normale, 6 = difetto permanente, 7 = difetto reversibile)\n",
    "- **`DIAGNOSIS`: diagnosi cardiologica (stato della malattia angiografica)**\n",
    "    - (0 = restringimento del diametro < 50%, 1 = restringimento del diametro > 50%, 2 = ..., 3 = ..., 4 = ...)\n",
    "    - questa è la variabile da predire"
   ]
  },
  {
   "cell_type": "markdown",
   "metadata": {},
   "source": [
    "- La colonna **`DIAGNOSIS`** rappresenta lo stato della malattia cardiaca del paziente: il suo valore può assumere i valori interi 0, 1, 2, 3, 4. Tuttavia, si può affrontare il problema semplicemente distinguendo la presenza (valori 1, 2, 3, 4) dall'assenza (valore 0) della malattia cardiaca.  \n",
    "\n",
    "\n",
    "- **In questo modo il problema si trasforma in una predizione di variabile discreta trattabile mediante classificazione binaria**\n",
    "    - 0 = assenza\n",
    "    - 1 = presenza"
   ]
  },
  {
   "cell_type": "markdown",
   "metadata": {},
   "source": [
    "- Si trasforma la colonna relativa alla variabile da predire coerentemente a quanto detto sopra"
   ]
  },
  {
   "cell_type": "code",
   "execution_count": 8,
   "metadata": {},
   "outputs": [],
   "source": [
    "y = data[\"DIAGNOSIS\"]\n",
    "data[\"DIAGNOSIS\"] = np.where(y > 0, int(1), int(0))"
   ]
  },
  {
   "cell_type": "code",
   "execution_count": 9,
   "metadata": {},
   "outputs": [
    {
     "data": {
      "text/html": [
       "<div>\n",
       "<style scoped>\n",
       "    .dataframe tbody tr th:only-of-type {\n",
       "        vertical-align: middle;\n",
       "    }\n",
       "\n",
       "    .dataframe tbody tr th {\n",
       "        vertical-align: top;\n",
       "    }\n",
       "\n",
       "    .dataframe thead th {\n",
       "        text-align: right;\n",
       "    }\n",
       "</style>\n",
       "<table border=\"1\" class=\"dataframe\">\n",
       "  <thead>\n",
       "    <tr style=\"text-align: right;\">\n",
       "      <th></th>\n",
       "      <th>AGE</th>\n",
       "      <th>SEX</th>\n",
       "      <th>CP</th>\n",
       "      <th>TRESTBPS</th>\n",
       "      <th>CHOL</th>\n",
       "      <th>FBS</th>\n",
       "      <th>RESTECG</th>\n",
       "      <th>THALACH</th>\n",
       "      <th>EXANG</th>\n",
       "      <th>OLDPEAK</th>\n",
       "      <th>SLOPE</th>\n",
       "      <th>CA</th>\n",
       "      <th>THAL</th>\n",
       "      <th>DIAGNOSIS</th>\n",
       "    </tr>\n",
       "  </thead>\n",
       "  <tbody>\n",
       "    <tr>\n",
       "      <th>0</th>\n",
       "      <td>63.0</td>\n",
       "      <td>1.0</td>\n",
       "      <td>1.0</td>\n",
       "      <td>145.0</td>\n",
       "      <td>233.0</td>\n",
       "      <td>1.0</td>\n",
       "      <td>2.0</td>\n",
       "      <td>150.0</td>\n",
       "      <td>0.0</td>\n",
       "      <td>2.3</td>\n",
       "      <td>3.0</td>\n",
       "      <td>0.0</td>\n",
       "      <td>6.0</td>\n",
       "      <td>0</td>\n",
       "    </tr>\n",
       "    <tr>\n",
       "      <th>1</th>\n",
       "      <td>67.0</td>\n",
       "      <td>1.0</td>\n",
       "      <td>4.0</td>\n",
       "      <td>160.0</td>\n",
       "      <td>286.0</td>\n",
       "      <td>0.0</td>\n",
       "      <td>2.0</td>\n",
       "      <td>108.0</td>\n",
       "      <td>1.0</td>\n",
       "      <td>1.5</td>\n",
       "      <td>2.0</td>\n",
       "      <td>3.0</td>\n",
       "      <td>3.0</td>\n",
       "      <td>1</td>\n",
       "    </tr>\n",
       "    <tr>\n",
       "      <th>2</th>\n",
       "      <td>67.0</td>\n",
       "      <td>1.0</td>\n",
       "      <td>4.0</td>\n",
       "      <td>120.0</td>\n",
       "      <td>229.0</td>\n",
       "      <td>0.0</td>\n",
       "      <td>2.0</td>\n",
       "      <td>129.0</td>\n",
       "      <td>1.0</td>\n",
       "      <td>2.6</td>\n",
       "      <td>2.0</td>\n",
       "      <td>2.0</td>\n",
       "      <td>7.0</td>\n",
       "      <td>1</td>\n",
       "    </tr>\n",
       "    <tr>\n",
       "      <th>3</th>\n",
       "      <td>37.0</td>\n",
       "      <td>1.0</td>\n",
       "      <td>3.0</td>\n",
       "      <td>130.0</td>\n",
       "      <td>250.0</td>\n",
       "      <td>0.0</td>\n",
       "      <td>0.0</td>\n",
       "      <td>187.0</td>\n",
       "      <td>0.0</td>\n",
       "      <td>3.5</td>\n",
       "      <td>3.0</td>\n",
       "      <td>0.0</td>\n",
       "      <td>3.0</td>\n",
       "      <td>0</td>\n",
       "    </tr>\n",
       "    <tr>\n",
       "      <th>4</th>\n",
       "      <td>41.0</td>\n",
       "      <td>0.0</td>\n",
       "      <td>2.0</td>\n",
       "      <td>130.0</td>\n",
       "      <td>204.0</td>\n",
       "      <td>0.0</td>\n",
       "      <td>2.0</td>\n",
       "      <td>172.0</td>\n",
       "      <td>0.0</td>\n",
       "      <td>1.4</td>\n",
       "      <td>1.0</td>\n",
       "      <td>0.0</td>\n",
       "      <td>3.0</td>\n",
       "      <td>0</td>\n",
       "    </tr>\n",
       "  </tbody>\n",
       "</table>\n",
       "</div>"
      ],
      "text/plain": [
       "    AGE  SEX   CP  TRESTBPS   CHOL  FBS  RESTECG  THALACH  EXANG  OLDPEAK  \\\n",
       "0  63.0  1.0  1.0     145.0  233.0  1.0      2.0    150.0    0.0      2.3   \n",
       "1  67.0  1.0  4.0     160.0  286.0  0.0      2.0    108.0    1.0      1.5   \n",
       "2  67.0  1.0  4.0     120.0  229.0  0.0      2.0    129.0    1.0      2.6   \n",
       "3  37.0  1.0  3.0     130.0  250.0  0.0      0.0    187.0    0.0      3.5   \n",
       "4  41.0  0.0  2.0     130.0  204.0  0.0      2.0    172.0    0.0      1.4   \n",
       "\n",
       "   SLOPE   CA THAL  DIAGNOSIS  \n",
       "0    3.0  0.0  6.0          0  \n",
       "1    2.0  3.0  3.0          1  \n",
       "2    2.0  2.0  7.0          1  \n",
       "3    3.0  0.0  3.0          0  \n",
       "4    1.0  0.0  3.0          0  "
      ]
     },
     "execution_count": 9,
     "metadata": {},
     "output_type": "execute_result"
    }
   ],
   "source": [
    "data.head()"
   ]
  },
  {
   "cell_type": "markdown",
   "metadata": {},
   "source": [
    "- Come si può facilmente verificare, il dataset contiene 303 istanze e 14 feature"
   ]
  },
  {
   "cell_type": "code",
   "execution_count": 10,
   "metadata": {},
   "outputs": [
    {
     "data": {
      "text/plain": [
       "(303, 14)"
      ]
     },
     "execution_count": 10,
     "metadata": {},
     "output_type": "execute_result"
    }
   ],
   "source": [
    "data.shape"
   ]
  },
  {
   "cell_type": "markdown",
   "metadata": {},
   "source": [
    "## Analisi esplorativa"
   ]
  },
  {
   "cell_type": "markdown",
   "metadata": {},
   "source": [
    "- Si analizza ora la distribuzione dei valori delle varie colonne, verificando che corrisponda a quanto dichiarato nelle specifiche del dataset"
   ]
  },
  {
   "cell_type": "code",
   "execution_count": 11,
   "metadata": {},
   "outputs": [
    {
     "data": {
      "text/plain": [
       "1.0    206\n",
       "0.0     97\n",
       "Name: SEX, dtype: int64"
      ]
     },
     "execution_count": 11,
     "metadata": {},
     "output_type": "execute_result"
    }
   ],
   "source": [
    "data[\"SEX\"].value_counts()"
   ]
  },
  {
   "cell_type": "code",
   "execution_count": 12,
   "metadata": {
    "scrolled": true
   },
   "outputs": [
    {
     "data": {
      "text/plain": [
       "4.0    144\n",
       "3.0     86\n",
       "2.0     50\n",
       "1.0     23\n",
       "Name: CP, dtype: int64"
      ]
     },
     "execution_count": 12,
     "metadata": {},
     "output_type": "execute_result"
    }
   ],
   "source": [
    "data[\"CP\"].value_counts()"
   ]
  },
  {
   "cell_type": "code",
   "execution_count": 13,
   "metadata": {
    "scrolled": true
   },
   "outputs": [
    {
     "data": {
      "text/plain": [
       "0.0    258\n",
       "1.0     45\n",
       "Name: FBS, dtype: int64"
      ]
     },
     "execution_count": 13,
     "metadata": {},
     "output_type": "execute_result"
    }
   ],
   "source": [
    "data[\"FBS\"].value_counts()"
   ]
  },
  {
   "cell_type": "code",
   "execution_count": 14,
   "metadata": {},
   "outputs": [
    {
     "data": {
      "text/plain": [
       "0.0    151\n",
       "2.0    148\n",
       "1.0      4\n",
       "Name: RESTECG, dtype: int64"
      ]
     },
     "execution_count": 14,
     "metadata": {},
     "output_type": "execute_result"
    }
   ],
   "source": [
    "data[\"RESTECG\"].value_counts()"
   ]
  },
  {
   "cell_type": "code",
   "execution_count": 15,
   "metadata": {
    "scrolled": true
   },
   "outputs": [
    {
     "data": {
      "text/plain": [
       "0.0    204\n",
       "1.0     99\n",
       "Name: EXANG, dtype: int64"
      ]
     },
     "execution_count": 15,
     "metadata": {},
     "output_type": "execute_result"
    }
   ],
   "source": [
    "data[\"EXANG\"].value_counts()"
   ]
  },
  {
   "cell_type": "code",
   "execution_count": 16,
   "metadata": {
    "scrolled": true
   },
   "outputs": [
    {
     "data": {
      "text/plain": [
       "1.0    142\n",
       "2.0    140\n",
       "3.0     21\n",
       "Name: SLOPE, dtype: int64"
      ]
     },
     "execution_count": 16,
     "metadata": {},
     "output_type": "execute_result"
    }
   ],
   "source": [
    "data[\"SLOPE\"].value_counts()"
   ]
  },
  {
   "cell_type": "code",
   "execution_count": 17,
   "metadata": {},
   "outputs": [
    {
     "data": {
      "text/plain": [
       "0.0    176\n",
       "1.0     65\n",
       "2.0     38\n",
       "3.0     20\n",
       "?        4\n",
       "Name: CA, dtype: int64"
      ]
     },
     "execution_count": 17,
     "metadata": {},
     "output_type": "execute_result"
    }
   ],
   "source": [
    "data[\"CA\"].value_counts()"
   ]
  },
  {
   "cell_type": "code",
   "execution_count": 18,
   "metadata": {
    "scrolled": true
   },
   "outputs": [
    {
     "data": {
      "text/plain": [
       "3.0    166\n",
       "7.0    117\n",
       "6.0     18\n",
       "?        2\n",
       "Name: THAL, dtype: int64"
      ]
     },
     "execution_count": 18,
     "metadata": {},
     "output_type": "execute_result"
    }
   ],
   "source": [
    "data[\"THAL\"].value_counts()"
   ]
  },
  {
   "cell_type": "code",
   "execution_count": 19,
   "metadata": {},
   "outputs": [
    {
     "data": {
      "text/plain": [
       "0    164\n",
       "1    139\n",
       "Name: DIAGNOSIS, dtype: int64"
      ]
     },
     "execution_count": 19,
     "metadata": {},
     "output_type": "execute_result"
    }
   ],
   "source": [
    "data[\"DIAGNOSIS\"].value_counts()"
   ]
  },
  {
   "cell_type": "markdown",
   "metadata": {},
   "source": [
    "- Come si può vedere, esistono alcuni valori ignoti che sono rappresentati con il simbolo `?`\n",
    "- Lo si sostituisce con il valore `NaN` in modo da facilitare la gestione dei valori nulli"
   ]
  },
  {
   "cell_type": "code",
   "execution_count": 20,
   "metadata": {},
   "outputs": [],
   "source": [
    "_ = data.replace(\"?\", np.nan, inplace=True)"
   ]
  },
  {
   "cell_type": "code",
   "execution_count": 21,
   "metadata": {
    "scrolled": true
   },
   "outputs": [
    {
     "data": {
      "text/plain": [
       "AGE          0\n",
       "SEX          0\n",
       "CP           0\n",
       "TRESTBPS     0\n",
       "CHOL         0\n",
       "FBS          0\n",
       "RESTECG      0\n",
       "THALACH      0\n",
       "EXANG        0\n",
       "OLDPEAK      0\n",
       "SLOPE        0\n",
       "CA           4\n",
       "THAL         2\n",
       "DIAGNOSIS    0\n",
       "dtype: int64"
      ]
     },
     "execution_count": 21,
     "metadata": {},
     "output_type": "execute_result"
    }
   ],
   "source": [
    "data.isnull().sum()"
   ]
  },
  {
   "cell_type": "markdown",
   "metadata": {},
   "source": [
    "- Essendo le istanze contenenti valori nulli trascurabili rispetto al totale, si decide di eliminarle per poter proseguire con l'analisi"
   ]
  },
  {
   "cell_type": "code",
   "execution_count": 22,
   "metadata": {},
   "outputs": [],
   "source": [
    "data.dropna(inplace=True)"
   ]
  },
  {
   "cell_type": "markdown",
   "metadata": {},
   "source": [
    "- Si verifica che siano state effettivamente eliminate le 6 righe individuate"
   ]
  },
  {
   "cell_type": "code",
   "execution_count": 23,
   "metadata": {
    "scrolled": true
   },
   "outputs": [
    {
     "data": {
      "text/plain": [
       "(297, 14)"
      ]
     },
     "execution_count": 23,
     "metadata": {},
     "output_type": "execute_result"
    }
   ],
   "source": [
    "data.shape"
   ]
  },
  {
   "cell_type": "markdown",
   "metadata": {},
   "source": [
    "- E' possibile vedere i tipi delle colonne assegnati da pandas e la memoria occupata dal DataFrame col metodo `info()`"
   ]
  },
  {
   "cell_type": "code",
   "execution_count": 24,
   "metadata": {},
   "outputs": [
    {
     "name": "stdout",
     "output_type": "stream",
     "text": [
      "<class 'pandas.core.frame.DataFrame'>\n",
      "Int64Index: 297 entries, 0 to 301\n",
      "Data columns (total 14 columns):\n",
      "AGE          297 non-null float64\n",
      "SEX          297 non-null float64\n",
      "CP           297 non-null float64\n",
      "TRESTBPS     297 non-null float64\n",
      "CHOL         297 non-null float64\n",
      "FBS          297 non-null float64\n",
      "RESTECG      297 non-null float64\n",
      "THALACH      297 non-null float64\n",
      "EXANG        297 non-null float64\n",
      "OLDPEAK      297 non-null float64\n",
      "SLOPE        297 non-null float64\n",
      "CA           297 non-null object\n",
      "THAL         297 non-null object\n",
      "DIAGNOSIS    297 non-null int64\n",
      "dtypes: float64(11), int64(1), object(2)\n",
      "memory usage: 65.0 KB\n"
     ]
    }
   ],
   "source": [
    "data.info(memory_usage=\"deep\")"
   ]
  },
  {
   "cell_type": "markdown",
   "metadata": {},
   "source": [
    "- Sebbene tutti gli attributi siano codificati come numeri, è possibile distinguere tra:\n",
    "    - Attributi puramente numerici:\n",
    "        - INTERVALLO: **`TRESTBPS`**, **`CHOL`**, **`THALACH`**, **`OLDPEAK`**\n",
    "        - RATIO: **`AGE`**\n",
    "    - Attributi categorici: **`SEX`**, **`CP`**, **`FBS`**, **`RESTECG`**, **`EXANG`**, **`SLOPE`**, **`CA`**, **`THAL`**, **`DIAGNOSIS`**"
   ]
  },
  {
   "cell_type": "markdown",
   "metadata": {},
   "source": [
    "- Si modifica, quindi, il tipo di questi ultimi attributi rendendoli di tipo intero (`uint8`), visto che sono di tipo categorico e pertanto il loro valore varia in un range molto piccolo e discreto"
   ]
  },
  {
   "cell_type": "code",
   "execution_count": 25,
   "metadata": {},
   "outputs": [],
   "source": [
    "data[list(\"AGE SEX CP FBS RESTECG EXANG SLOPE DIAGNOSIS\".split())] = \\\n",
    "data[list(\"AGE SEX CP FBS RESTECG EXANG SLOPE DIAGNOSIS\".split())].astype(\"uint8\")\n",
    "data[list(\"CA THAL\".split())] = \\\n",
    "data[list(\"CA THAL\".split())].astype(str).astype(float).astype(\"uint8\")"
   ]
  },
  {
   "cell_type": "markdown",
   "metadata": {},
   "source": [
    "- NOTA: in questa fase si sarebbe potuto anche rendere le suddette variabili effettivamente categoriche: questo però non avrebbe permesso l'utilizzo diretto degli algoritmi di learning per la classificazione che verranno utilizzati in seguito, se non applicando precedentemente una binarizzazione ai dati categorici stessi, ad esempio tramite la tecnica del **_One Hot Encoding_**. Questo, oltre alla perdita delle etichette delle colonne, avrebbe comportato un aumento dell'occupazione in memoria del dataset, quindi in definitiva si è deciso di non praticare questa strada. Inoltre, facendo un confronto, si nota che la differenza in termini di occupazione di memoria del dataset con gli attributi categorici e con gli attributi codificati come interi a 8 bit, è pressoché trascurabile"
   ]
  },
  {
   "cell_type": "markdown",
   "metadata": {},
   "source": [
    "- Si ottiene un DataFrame con gli stessi dati sopra..."
   ]
  },
  {
   "cell_type": "code",
   "execution_count": 26,
   "metadata": {
    "scrolled": false
   },
   "outputs": [
    {
     "data": {
      "text/html": [
       "<div>\n",
       "<style scoped>\n",
       "    .dataframe tbody tr th:only-of-type {\n",
       "        vertical-align: middle;\n",
       "    }\n",
       "\n",
       "    .dataframe tbody tr th {\n",
       "        vertical-align: top;\n",
       "    }\n",
       "\n",
       "    .dataframe thead th {\n",
       "        text-align: right;\n",
       "    }\n",
       "</style>\n",
       "<table border=\"1\" class=\"dataframe\">\n",
       "  <thead>\n",
       "    <tr style=\"text-align: right;\">\n",
       "      <th></th>\n",
       "      <th>AGE</th>\n",
       "      <th>SEX</th>\n",
       "      <th>CP</th>\n",
       "      <th>TRESTBPS</th>\n",
       "      <th>CHOL</th>\n",
       "      <th>FBS</th>\n",
       "      <th>RESTECG</th>\n",
       "      <th>THALACH</th>\n",
       "      <th>EXANG</th>\n",
       "      <th>OLDPEAK</th>\n",
       "      <th>SLOPE</th>\n",
       "      <th>CA</th>\n",
       "      <th>THAL</th>\n",
       "      <th>DIAGNOSIS</th>\n",
       "    </tr>\n",
       "  </thead>\n",
       "  <tbody>\n",
       "    <tr>\n",
       "      <th>0</th>\n",
       "      <td>63</td>\n",
       "      <td>1</td>\n",
       "      <td>1</td>\n",
       "      <td>145.0</td>\n",
       "      <td>233.0</td>\n",
       "      <td>1</td>\n",
       "      <td>2</td>\n",
       "      <td>150.0</td>\n",
       "      <td>0</td>\n",
       "      <td>2.3</td>\n",
       "      <td>3</td>\n",
       "      <td>0</td>\n",
       "      <td>6</td>\n",
       "      <td>0</td>\n",
       "    </tr>\n",
       "    <tr>\n",
       "      <th>1</th>\n",
       "      <td>67</td>\n",
       "      <td>1</td>\n",
       "      <td>4</td>\n",
       "      <td>160.0</td>\n",
       "      <td>286.0</td>\n",
       "      <td>0</td>\n",
       "      <td>2</td>\n",
       "      <td>108.0</td>\n",
       "      <td>1</td>\n",
       "      <td>1.5</td>\n",
       "      <td>2</td>\n",
       "      <td>3</td>\n",
       "      <td>3</td>\n",
       "      <td>1</td>\n",
       "    </tr>\n",
       "    <tr>\n",
       "      <th>2</th>\n",
       "      <td>67</td>\n",
       "      <td>1</td>\n",
       "      <td>4</td>\n",
       "      <td>120.0</td>\n",
       "      <td>229.0</td>\n",
       "      <td>0</td>\n",
       "      <td>2</td>\n",
       "      <td>129.0</td>\n",
       "      <td>1</td>\n",
       "      <td>2.6</td>\n",
       "      <td>2</td>\n",
       "      <td>2</td>\n",
       "      <td>7</td>\n",
       "      <td>1</td>\n",
       "    </tr>\n",
       "    <tr>\n",
       "      <th>3</th>\n",
       "      <td>37</td>\n",
       "      <td>1</td>\n",
       "      <td>3</td>\n",
       "      <td>130.0</td>\n",
       "      <td>250.0</td>\n",
       "      <td>0</td>\n",
       "      <td>0</td>\n",
       "      <td>187.0</td>\n",
       "      <td>0</td>\n",
       "      <td>3.5</td>\n",
       "      <td>3</td>\n",
       "      <td>0</td>\n",
       "      <td>3</td>\n",
       "      <td>0</td>\n",
       "    </tr>\n",
       "    <tr>\n",
       "      <th>4</th>\n",
       "      <td>41</td>\n",
       "      <td>0</td>\n",
       "      <td>2</td>\n",
       "      <td>130.0</td>\n",
       "      <td>204.0</td>\n",
       "      <td>0</td>\n",
       "      <td>2</td>\n",
       "      <td>172.0</td>\n",
       "      <td>0</td>\n",
       "      <td>1.4</td>\n",
       "      <td>1</td>\n",
       "      <td>0</td>\n",
       "      <td>3</td>\n",
       "      <td>0</td>\n",
       "    </tr>\n",
       "  </tbody>\n",
       "</table>\n",
       "</div>"
      ],
      "text/plain": [
       "   AGE  SEX  CP  TRESTBPS   CHOL  FBS  RESTECG  THALACH  EXANG  OLDPEAK  \\\n",
       "0   63    1   1     145.0  233.0    1        2    150.0      0      2.3   \n",
       "1   67    1   4     160.0  286.0    0        2    108.0      1      1.5   \n",
       "2   67    1   4     120.0  229.0    0        2    129.0      1      2.6   \n",
       "3   37    1   3     130.0  250.0    0        0    187.0      0      3.5   \n",
       "4   41    0   2     130.0  204.0    0        2    172.0      0      1.4   \n",
       "\n",
       "   SLOPE  CA  THAL  DIAGNOSIS  \n",
       "0      3   0     6          0  \n",
       "1      2   3     3          1  \n",
       "2      2   2     7          1  \n",
       "3      3   0     3          0  \n",
       "4      1   0     3          0  "
      ]
     },
     "execution_count": 26,
     "metadata": {},
     "output_type": "execute_result"
    }
   ],
   "source": [
    "data.head()"
   ]
  },
  {
   "cell_type": "markdown",
   "metadata": {},
   "source": [
    "- ...ma con occupazione di memoria ridotta di quasi 5 volte"
   ]
  },
  {
   "cell_type": "code",
   "execution_count": 27,
   "metadata": {
    "scrolled": true
   },
   "outputs": [
    {
     "name": "stdout",
     "output_type": "stream",
     "text": [
      "<class 'pandas.core.frame.DataFrame'>\n",
      "Int64Index: 297 entries, 0 to 301\n",
      "Data columns (total 14 columns):\n",
      "AGE          297 non-null uint8\n",
      "SEX          297 non-null uint8\n",
      "CP           297 non-null uint8\n",
      "TRESTBPS     297 non-null float64\n",
      "CHOL         297 non-null float64\n",
      "FBS          297 non-null uint8\n",
      "RESTECG      297 non-null uint8\n",
      "THALACH      297 non-null float64\n",
      "EXANG        297 non-null uint8\n",
      "OLDPEAK      297 non-null float64\n",
      "SLOPE        297 non-null uint8\n",
      "CA           297 non-null uint8\n",
      "THAL         297 non-null uint8\n",
      "DIAGNOSIS    297 non-null uint8\n",
      "dtypes: float64(4), uint8(10)\n",
      "memory usage: 14.5 KB\n"
     ]
    }
   ],
   "source": [
    "data.info(memory_usage=\"deep\")"
   ]
  },
  {
   "cell_type": "markdown",
   "metadata": {},
   "source": [
    "- Si definisce ora una funzione per visualizzare in veste grafica le informazioni estratte sopra"
   ]
  },
  {
   "cell_type": "code",
   "execution_count": 28,
   "metadata": {},
   "outputs": [],
   "source": [
    "def pieplot(x, **options):\n",
    "    x.value_counts().sort_index().plot.pie(**options)"
   ]
  },
  {
   "cell_type": "code",
   "execution_count": 29,
   "metadata": {
    "scrolled": true
   },
   "outputs": [
    {
     "data": {
      "image/png": "[encoded data removed]",
      "text/plain": [
       "<Figure size 1152x1152 with 8 Axes>"
      ]
     },
     "metadata": {},
     "output_type": "display_data"
    }
   ],
   "source": [
    "plt.figure(figsize=(16, 16))\n",
    "pieplot(data[\"SEX\"], ax=plt.subplot(3, 3, 1), \n",
    "        labels=[\"Donna\", \"Uomo\"], autopct=lambda p: \"{:.2f}%\".format(p))\n",
    "pieplot(data[\"CP\"], ax=plt.subplot(3, 3, 2), \n",
    "        labels=[\"Angina tipica\", \"Angina atipica\", \n",
    "                \"Dolore non anginoso\", \"Asintomatico\"], \n",
    "        autopct=lambda p: \"{:.2f}%\".format(p))\n",
    "pieplot(data[\"FBS\"], ax=plt.subplot(3, 3, 3), \n",
    "        labels=[\"Falso\", \"Vero\"], autopct=lambda p: \"{:.2f}%\".format(p))\n",
    "pieplot(data[\"RESTECG\"], ax=plt.subplot(3, 3, 4), \n",
    "        labels=[\"Normale\", \"Anomalia nel segmento ST-T\", \n",
    "                \"Ipertrofia ventricolare sinistra\"], \n",
    "        autopct=lambda p: \"{:.2f}%\".format(p))\n",
    "pieplot(data[\"EXANG\"], ax=plt.subplot(3, 3, 5), \n",
    "        labels=[\"No\", \"Sì\"], autopct=lambda p: \"{:.2f}%\".format(p))\n",
    "pieplot(data[\"SLOPE\"], ax=plt.subplot(3, 3, 6), \n",
    "        labels=[\"In salita\", \"Piatta\", \"In discesa\"], \n",
    "        autopct=lambda p: \"{:.2f}%\".format(p))\n",
    "pieplot(data[\"CA\"], ax=plt.subplot(3, 3, 7), \n",
    "        labels=[\"Nessuno\", \"1\", \"2\", \"3\"], \n",
    "        autopct=lambda p: \"{:.2f}%\".format(p))\n",
    "pieplot(data[\"THAL\"], ax=plt.subplot(3, 3, 8), \n",
    "        labels=[\"Normale\", \"Dìfetto permanente\", \"Difetto reversibile\"], \n",
    "        autopct=lambda p: \"{:.2f}%\".format(p))"
   ]
  },
  {
   "cell_type": "markdown",
   "metadata": {},
   "source": [
    "- Come si può notare, il problema risulta essere bilanciato, avendo all'incirca lo stesso numero di istanze classificate come 0 (i.e. assenza di malattia cardiaca) e come 1 (i.e. presenza di malattia cardiaca)"
   ]
  },
  {
   "cell_type": "code",
   "execution_count": 30,
   "metadata": {},
   "outputs": [
    {
     "data": {
      "image/png": "[encoded data removed]",
      "text/plain": [
       "<Figure size 360x360 with 1 Axes>"
      ]
     },
     "metadata": {},
     "output_type": "display_data"
    }
   ],
   "source": [
    "pieplot(data[\"DIAGNOSIS\"], \n",
    "        labels=[\"Assenza di malattica cardiaca\", \n",
    "                \"Presenza di malattia cardiaca\"], \n",
    "        autopct=lambda p: \"{:.2f}%\".format(p), figsize=(5,5))"
   ]
  },
  {
   "cell_type": "markdown",
   "metadata": {},
   "source": [
    "- Si analizzano ora distribuzioni, medie, deviazioni standard e percentili delle feature"
   ]
  },
  {
   "cell_type": "code",
   "execution_count": 31,
   "metadata": {},
   "outputs": [
    {
     "data": {
      "text/html": [
       "<div>\n",
       "<style scoped>\n",
       "    .dataframe tbody tr th:only-of-type {\n",
       "        vertical-align: middle;\n",
       "    }\n",
       "\n",
       "    .dataframe tbody tr th {\n",
       "        vertical-align: top;\n",
       "    }\n",
       "\n",
       "    .dataframe thead th {\n",
       "        text-align: right;\n",
       "    }\n",
       "</style>\n",
       "<table border=\"1\" class=\"dataframe\">\n",
       "  <thead>\n",
       "    <tr style=\"text-align: right;\">\n",
       "      <th></th>\n",
       "      <th>AGE</th>\n",
       "      <th>SEX</th>\n",
       "      <th>CP</th>\n",
       "      <th>TRESTBPS</th>\n",
       "      <th>CHOL</th>\n",
       "      <th>FBS</th>\n",
       "      <th>RESTECG</th>\n",
       "      <th>THALACH</th>\n",
       "      <th>EXANG</th>\n",
       "      <th>OLDPEAK</th>\n",
       "      <th>SLOPE</th>\n",
       "      <th>CA</th>\n",
       "      <th>THAL</th>\n",
       "      <th>DIAGNOSIS</th>\n",
       "    </tr>\n",
       "  </thead>\n",
       "  <tbody>\n",
       "    <tr>\n",
       "      <th>count</th>\n",
       "      <td>297.000000</td>\n",
       "      <td>297.000000</td>\n",
       "      <td>297.000000</td>\n",
       "      <td>297.000000</td>\n",
       "      <td>297.000000</td>\n",
       "      <td>297.000000</td>\n",
       "      <td>297.000000</td>\n",
       "      <td>297.000000</td>\n",
       "      <td>297.000000</td>\n",
       "      <td>297.000000</td>\n",
       "      <td>297.000000</td>\n",
       "      <td>297.000000</td>\n",
       "      <td>297.000000</td>\n",
       "      <td>297.000000</td>\n",
       "    </tr>\n",
       "    <tr>\n",
       "      <th>mean</th>\n",
       "      <td>54.542088</td>\n",
       "      <td>0.676768</td>\n",
       "      <td>3.158249</td>\n",
       "      <td>131.693603</td>\n",
       "      <td>247.350168</td>\n",
       "      <td>0.144781</td>\n",
       "      <td>0.996633</td>\n",
       "      <td>149.599327</td>\n",
       "      <td>0.326599</td>\n",
       "      <td>1.055556</td>\n",
       "      <td>1.602694</td>\n",
       "      <td>0.676768</td>\n",
       "      <td>4.730640</td>\n",
       "      <td>0.461279</td>\n",
       "    </tr>\n",
       "    <tr>\n",
       "      <th>std</th>\n",
       "      <td>9.049736</td>\n",
       "      <td>0.468500</td>\n",
       "      <td>0.964859</td>\n",
       "      <td>17.762806</td>\n",
       "      <td>51.997583</td>\n",
       "      <td>0.352474</td>\n",
       "      <td>0.994914</td>\n",
       "      <td>22.941562</td>\n",
       "      <td>0.469761</td>\n",
       "      <td>1.166123</td>\n",
       "      <td>0.618187</td>\n",
       "      <td>0.938965</td>\n",
       "      <td>1.938629</td>\n",
       "      <td>0.499340</td>\n",
       "    </tr>\n",
       "    <tr>\n",
       "      <th>min</th>\n",
       "      <td>29.000000</td>\n",
       "      <td>0.000000</td>\n",
       "      <td>1.000000</td>\n",
       "      <td>94.000000</td>\n",
       "      <td>126.000000</td>\n",
       "      <td>0.000000</td>\n",
       "      <td>0.000000</td>\n",
       "      <td>71.000000</td>\n",
       "      <td>0.000000</td>\n",
       "      <td>0.000000</td>\n",
       "      <td>1.000000</td>\n",
       "      <td>0.000000</td>\n",
       "      <td>3.000000</td>\n",
       "      <td>0.000000</td>\n",
       "    </tr>\n",
       "    <tr>\n",
       "      <th>25%</th>\n",
       "      <td>48.000000</td>\n",
       "      <td>0.000000</td>\n",
       "      <td>3.000000</td>\n",
       "      <td>120.000000</td>\n",
       "      <td>211.000000</td>\n",
       "      <td>0.000000</td>\n",
       "      <td>0.000000</td>\n",
       "      <td>133.000000</td>\n",
       "      <td>0.000000</td>\n",
       "      <td>0.000000</td>\n",
       "      <td>1.000000</td>\n",
       "      <td>0.000000</td>\n",
       "      <td>3.000000</td>\n",
       "      <td>0.000000</td>\n",
       "    </tr>\n",
       "    <tr>\n",
       "      <th>50%</th>\n",
       "      <td>56.000000</td>\n",
       "      <td>1.000000</td>\n",
       "      <td>3.000000</td>\n",
       "      <td>130.000000</td>\n",
       "      <td>243.000000</td>\n",
       "      <td>0.000000</td>\n",
       "      <td>1.000000</td>\n",
       "      <td>153.000000</td>\n",
       "      <td>0.000000</td>\n",
       "      <td>0.800000</td>\n",
       "      <td>2.000000</td>\n",
       "      <td>0.000000</td>\n",
       "      <td>3.000000</td>\n",
       "      <td>0.000000</td>\n",
       "    </tr>\n",
       "    <tr>\n",
       "      <th>75%</th>\n",
       "      <td>61.000000</td>\n",
       "      <td>1.000000</td>\n",
       "      <td>4.000000</td>\n",
       "      <td>140.000000</td>\n",
       "      <td>276.000000</td>\n",
       "      <td>0.000000</td>\n",
       "      <td>2.000000</td>\n",
       "      <td>166.000000</td>\n",
       "      <td>1.000000</td>\n",
       "      <td>1.600000</td>\n",
       "      <td>2.000000</td>\n",
       "      <td>1.000000</td>\n",
       "      <td>7.000000</td>\n",
       "      <td>1.000000</td>\n",
       "    </tr>\n",
       "    <tr>\n",
       "      <th>max</th>\n",
       "      <td>77.000000</td>\n",
       "      <td>1.000000</td>\n",
       "      <td>4.000000</td>\n",
       "      <td>200.000000</td>\n",
       "      <td>564.000000</td>\n",
       "      <td>1.000000</td>\n",
       "      <td>2.000000</td>\n",
       "      <td>202.000000</td>\n",
       "      <td>1.000000</td>\n",
       "      <td>6.200000</td>\n",
       "      <td>3.000000</td>\n",
       "      <td>3.000000</td>\n",
       "      <td>7.000000</td>\n",
       "      <td>1.000000</td>\n",
       "    </tr>\n",
       "  </tbody>\n",
       "</table>\n",
       "</div>"
      ],
      "text/plain": [
       "              AGE         SEX          CP    TRESTBPS        CHOL         FBS  \\\n",
       "count  297.000000  297.000000  297.000000  297.000000  297.000000  297.000000   \n",
       "mean    54.542088    0.676768    3.158249  131.693603  247.350168    0.144781   \n",
       "std      9.049736    0.468500    0.964859   17.762806   51.997583    0.352474   \n",
       "min     29.000000    0.000000    1.000000   94.000000  126.000000    0.000000   \n",
       "25%     48.000000    0.000000    3.000000  120.000000  211.000000    0.000000   \n",
       "50%     56.000000    1.000000    3.000000  130.000000  243.000000    0.000000   \n",
       "75%     61.000000    1.000000    4.000000  140.000000  276.000000    0.000000   \n",
       "max     77.000000    1.000000    4.000000  200.000000  564.000000    1.000000   \n",
       "\n",
       "          RESTECG     THALACH       EXANG     OLDPEAK       SLOPE          CA  \\\n",
       "count  297.000000  297.000000  297.000000  297.000000  297.000000  297.000000   \n",
       "mean     0.996633  149.599327    0.326599    1.055556    1.602694    0.676768   \n",
       "std      0.994914   22.941562    0.469761    1.166123    0.618187    0.938965   \n",
       "min      0.000000   71.000000    0.000000    0.000000    1.000000    0.000000   \n",
       "25%      0.000000  133.000000    0.000000    0.000000    1.000000    0.000000   \n",
       "50%      1.000000  153.000000    0.000000    0.800000    2.000000    0.000000   \n",
       "75%      2.000000  166.000000    1.000000    1.600000    2.000000    1.000000   \n",
       "max      2.000000  202.000000    1.000000    6.200000    3.000000    3.000000   \n",
       "\n",
       "             THAL   DIAGNOSIS  \n",
       "count  297.000000  297.000000  \n",
       "mean     4.730640    0.461279  \n",
       "std      1.938629    0.499340  \n",
       "min      3.000000    0.000000  \n",
       "25%      3.000000    0.000000  \n",
       "50%      3.000000    0.000000  \n",
       "75%      7.000000    1.000000  \n",
       "max      7.000000    1.000000  "
      ]
     },
     "execution_count": 31,
     "metadata": {},
     "output_type": "execute_result"
    }
   ],
   "source": [
    "data.describe()"
   ]
  },
  {
   "cell_type": "markdown",
   "metadata": {},
   "source": [
    "- Le distribuzioni delle variabili numeriche sono le seguenti"
   ]
  },
  {
   "cell_type": "code",
   "execution_count": 32,
   "metadata": {},
   "outputs": [
    {
     "data": {
      "text/plain": [
       "<matplotlib.axes._subplots.AxesSubplot at 0x11a1bbbe0>"
      ]
     },
     "execution_count": 32,
     "metadata": {},
     "output_type": "execute_result"
    },
    {
     "data": {
      "image/png": "[encoded data removed]",
      "text/plain": [
       "<Figure size 432x288 with 1 Axes>"
      ]
     },
     "metadata": {
      "needs_background": "light"
     },
     "output_type": "display_data"
    }
   ],
   "source": [
    "data[\"AGE\"].plot.hist(bins=20)"
   ]
  },
  {
   "cell_type": "code",
   "execution_count": 33,
   "metadata": {
    "scrolled": true
   },
   "outputs": [
    {
     "data": {
      "text/plain": [
       "<matplotlib.axes._subplots.AxesSubplot at 0x1197e8cc0>"
      ]
     },
     "execution_count": 33,
     "metadata": {},
     "output_type": "execute_result"
    },
    {
     "data": {
      "image/png": "[encoded data removed]",
      "text/plain": [
       "<Figure size 432x288 with 1 Axes>"
      ]
     },
     "metadata": {
      "needs_background": "light"
     },
     "output_type": "display_data"
    }
   ],
   "source": [
    "data[\"TRESTBPS\"].plot.hist(bins=20)"
   ]
  },
  {
   "cell_type": "code",
   "execution_count": 34,
   "metadata": {},
   "outputs": [
    {
     "data": {
      "text/plain": [
       "<matplotlib.axes._subplots.AxesSubplot at 0x11a1ec1d0>"
      ]
     },
     "execution_count": 34,
     "metadata": {},
     "output_type": "execute_result"
    },
    {
     "data": {
      "image/png": "[encoded data removed]",
      "text/plain": [
       "<Figure size 432x288 with 1 Axes>"
      ]
     },
     "metadata": {
      "needs_background": "light"
     },
     "output_type": "display_data"
    }
   ],
   "source": [
    "data[\"CHOL\"].plot.hist(bins=20)"
   ]
  },
  {
   "cell_type": "code",
   "execution_count": 35,
   "metadata": {},
   "outputs": [
    {
     "data": {
      "text/plain": [
       "<matplotlib.axes._subplots.AxesSubplot at 0x1197da710>"
      ]
     },
     "execution_count": 35,
     "metadata": {},
     "output_type": "execute_result"
    },
    {
     "data": {
      "image/png": "[encoded data removed]",
      "text/plain": [
       "<Figure size 432x288 with 1 Axes>"
      ]
     },
     "metadata": {
      "needs_background": "light"
     },
     "output_type": "display_data"
    }
   ],
   "source": [
    "data[\"THALACH\"].plot.hist(bins=20)"
   ]
  },
  {
   "cell_type": "code",
   "execution_count": 36,
   "metadata": {
    "scrolled": true
   },
   "outputs": [
    {
     "data": {
      "text/plain": [
       "<matplotlib.axes._subplots.AxesSubplot at 0x119724780>"
      ]
     },
     "execution_count": 36,
     "metadata": {},
     "output_type": "execute_result"
    },
    {
     "data": {
      "image/png": "[encoded data removed]",
      "text/plain": [
       "<Figure size 432x288 with 1 Axes>"
      ]
     },
     "metadata": {
      "needs_background": "light"
     },
     "output_type": "display_data"
    }
   ],
   "source": [
    "data[\"OLDPEAK\"].plot.hist(bins=20)"
   ]
  },
  {
   "cell_type": "markdown",
   "metadata": {},
   "source": [
    "## Divisione Training e Validation Set"
   ]
  },
  {
   "cell_type": "markdown",
   "metadata": {},
   "source": [
    "- Con il dataset preprocessato, è possibile iniziare l'addestramento\n",
    "- Per prima cosa, si divide casualmente il dataset tramite la funzione `train_test_split()` per ottenere:\n",
    "    - un training set per l'addestramento dei modelli (contenente 2/3 delle istanze totali)\n",
    "    - un validation set per la successiva validazione degli stessi (contenente il restante 1/3 delle istanze)\n",
    "- Per ciascuno creiamo una serie y con la variabile `DIAGNOSIS` da prevedere e un DataFrame X con le variabili utilizzabili per la predizione"
   ]
  },
  {
   "cell_type": "code",
   "execution_count": 37,
   "metadata": {},
   "outputs": [],
   "source": [
    "from sklearn.model_selection import train_test_split\n",
    "X_train, X_val, y_train, y_val = train_test_split(\n",
    "    data.drop([\"DIAGNOSIS\"], axis=1),   # X = tutte le feature tranne DIAGNOSIS\n",
    "    data[\"DIAGNOSIS\"],                  # y = DIAGNOSIS\n",
    "    test_size=1/3, random_state=42      # opzioni\n",
    ")"
   ]
  },
  {
   "cell_type": "markdown",
   "metadata": {},
   "source": [
    "- Si può verificare la corretta suddivisione"
   ]
  },
  {
   "cell_type": "code",
   "execution_count": 38,
   "metadata": {
    "scrolled": true
   },
   "outputs": [
    {
     "data": {
      "text/plain": [
       "(198, 99)"
      ]
     },
     "execution_count": 38,
     "metadata": {},
     "output_type": "execute_result"
    }
   ],
   "source": [
    "len(X_train), len(X_val)"
   ]
  },
  {
   "cell_type": "markdown",
   "metadata": {},
   "source": [
    "- La suddivisione effettuata continua a essere bilanciata"
   ]
  },
  {
   "cell_type": "code",
   "execution_count": 39,
   "metadata": {},
   "outputs": [
    {
     "data": {
      "text/plain": [
       "0    107\n",
       "1     91\n",
       "Name: DIAGNOSIS, dtype: int64"
      ]
     },
     "execution_count": 39,
     "metadata": {},
     "output_type": "execute_result"
    }
   ],
   "source": [
    "y_train.value_counts()"
   ]
  },
  {
   "cell_type": "code",
   "execution_count": 40,
   "metadata": {
    "scrolled": false
   },
   "outputs": [
    {
     "data": {
      "text/plain": [
       "0    53\n",
       "1    46\n",
       "Name: DIAGNOSIS, dtype: int64"
      ]
     },
     "execution_count": 40,
     "metadata": {},
     "output_type": "execute_result"
    }
   ],
   "source": [
    "y_val.value_counts()"
   ]
  },
  {
   "cell_type": "markdown",
   "metadata": {},
   "source": [
    "## Perceptron"
   ]
  },
  {
   "cell_type": "markdown",
   "metadata": {},
   "source": [
    "- Si inizia con un'implementazione di base tramite `Perceptron`"
   ]
  },
  {
   "cell_type": "code",
   "execution_count": 41,
   "metadata": {
    "scrolled": true
   },
   "outputs": [],
   "source": [
    "from sklearn.linear_model import Perceptron\n",
    "model = Perceptron()\n",
    "model.fit(X_train, y_train);"
   ]
  },
  {
   "cell_type": "markdown",
   "metadata": {},
   "source": [
    "- L'accuratezza di questa predizione risulta essere"
   ]
  },
  {
   "cell_type": "code",
   "execution_count": 42,
   "metadata": {},
   "outputs": [
    {
     "data": {
      "text/plain": [
       "0.5353535353535354"
      ]
     },
     "execution_count": 42,
     "metadata": {},
     "output_type": "execute_result"
    }
   ],
   "source": [
    "model.score(X_val, y_val)"
   ]
  },
  {
   "cell_type": "markdown",
   "metadata": {},
   "source": [
    "- Si ricorda che, trattandosi di un problema di classificazione, la metrica restituita dal metodo `score()` altro non è che l'_accuratezza_, ovvero la percentuale di esempi di un set di valutazione per cui la classe predetta dal modello coincide con quella nota. Riferendosi alla _matrice di confusione_, tale valore risulta essere la somma dei valori che giaciono sulla diagonale, diviso la totalità dei valori\n",
    "- Ovviamente il valore ottenuto è molto basso, pressochè equivalente ad una scelta randomica. Si cerca quindi di applicare alcune trasformazioni alle feature"
   ]
  },
  {
   "cell_type": "markdown",
   "metadata": {},
   "source": [
    "## Parametri del Modello"
   ]
  },
  {
   "cell_type": "markdown",
   "metadata": {},
   "source": [
    "- I coefficienti trovati dal modello, per cui è moltiplicata ciascuna feature, sono"
   ]
  },
  {
   "cell_type": "code",
   "execution_count": 43,
   "metadata": {},
   "outputs": [
    {
     "data": {
      "text/plain": [
       "array([[  615. ,    75. ,   169. ,   784. ,   483. ,    -6. ,    27. ,\n",
       "        -1267. ,    76. ,   166.9,    39. ,   208. ,   411. ]])"
      ]
     },
     "execution_count": 43,
     "metadata": {},
     "output_type": "execute_result"
    }
   ],
   "source": [
    "model.coef_"
   ]
  },
  {
   "cell_type": "markdown",
   "metadata": {},
   "source": [
    "- Dato che le variabili hanno scale diverse, è difficile confrontarne l'importanza"
   ]
  },
  {
   "cell_type": "markdown",
   "metadata": {},
   "source": [
    "- Si testa, quindi, l'applicazione della standardizzazione delle variabili prima di fornirle al modello, tramite `Pipeline`"
   ]
  },
  {
   "cell_type": "code",
   "execution_count": 44,
   "metadata": {},
   "outputs": [
    {
     "data": {
      "text/plain": [
       "0.8787878787878788"
      ]
     },
     "execution_count": 44,
     "metadata": {},
     "output_type": "execute_result"
    }
   ],
   "source": [
    "from sklearn.pipeline import Pipeline\n",
    "from sklearn.preprocessing import StandardScaler\n",
    "model = Pipeline([\n",
    "    (\"scaler\", StandardScaler()),\n",
    "    (\"model\",  Perceptron())\n",
    "])\n",
    "model.fit(X_train, y_train)\n",
    "model.score(X_val, y_val)"
   ]
  },
  {
   "cell_type": "markdown",
   "metadata": {},
   "source": [
    "- Si può notare un considerevole aumento dell'accuratezza, realizzato grazie alla standardizzazione"
   ]
  },
  {
   "cell_type": "markdown",
   "metadata": {},
   "source": [
    "- I nuovi valori dei coefficienti, associati alle rispettive colonne, sono i seguenti "
   ]
  },
  {
   "cell_type": "code",
   "execution_count": 45,
   "metadata": {
    "scrolled": true
   },
   "outputs": [
    {
     "data": {
      "text/plain": [
       "AGE        -1.636090\n",
       "SEX         0.164084\n",
       "CP          1.609790\n",
       "TRESTBPS    0.357308\n",
       "CHOL        0.547867\n",
       "FBS        -1.341641\n",
       "RESTECG    -1.714464\n",
       "THALACH    -3.214592\n",
       "EXANG       2.194072\n",
       "OLDPEAK     4.719604\n",
       "SLOPE       3.090617\n",
       "CA          6.299759\n",
       "THAL        5.241051\n",
       "dtype: float64"
      ]
     },
     "execution_count": 45,
     "metadata": {},
     "output_type": "execute_result"
    }
   ],
   "source": [
    "pd.Series(model.named_steps[\"model\"].coef_[0], index=X_train.columns)"
   ]
  },
  {
   "cell_type": "markdown",
   "metadata": {},
   "source": [
    "## Regolarizzazione"
   ]
  },
  {
   "cell_type": "markdown",
   "metadata": {},
   "source": [
    "- Nel modello `Perceptron` è possibile applicare diversi tipi di regolarizzazione:\n",
    "    - la regolarizzazione `l2` aggiunge una penalità ai valori assoluti dei parametri del modello, soprattutto per gestire i valori cosiddetti \"estremi\" per evitare overfitting. Produce una soluzione _densa_, nel senso che tutte le variabili, seppure in misura diversa, sono considerate dal modello.\n",
    "    - la regolarizzazione `l1` rende nulli alcuni parametri per scartare le variabili che sono considerate meno necessarie dal modello. Produce, quindi, una _soluzione sparsa_\n",
    "    - la regolarizzazione `elastic net` è una combinazione delle due sopra"
   ]
  },
  {
   "cell_type": "markdown",
   "metadata": {},
   "source": [
    "- Si testa un modello applicando la regolarizzazione `l1`, impostando opportunamente il parametro `penalty`"
   ]
  },
  {
   "cell_type": "code",
   "execution_count": 46,
   "metadata": {},
   "outputs": [
    {
     "data": {
      "text/plain": [
       "0.8787878787878788"
      ]
     },
     "execution_count": 46,
     "metadata": {},
     "output_type": "execute_result"
    }
   ],
   "source": [
    "model = Pipeline([\n",
    "    (\"scaler\", StandardScaler()),\n",
    "    (\"model\",  Perceptron(penalty=\"l1\", alpha=0.001))\n",
    "])\n",
    "model.fit(X_train, y_train)\n",
    "model.score(X_val, y_val)"
   ]
  },
  {
   "cell_type": "markdown",
   "metadata": {},
   "source": [
    "- I parametri considerati dal modello sono"
   ]
  },
  {
   "cell_type": "code",
   "execution_count": 47,
   "metadata": {
    "scrolled": true
   },
   "outputs": [
    {
     "data": {
      "text/plain": [
       "AGE        -1.465253\n",
       "SEX         2.007267\n",
       "CP          3.521579\n",
       "TRESTBPS    0.000000\n",
       "CHOL        0.000000\n",
       "FBS        -0.798854\n",
       "RESTECG     0.000000\n",
       "THALACH    -4.061532\n",
       "EXANG       0.472715\n",
       "OLDPEAK     4.175427\n",
       "SLOPE       2.742384\n",
       "CA          4.571950\n",
       "THAL        2.847198\n",
       "dtype: float64"
      ]
     },
     "execution_count": 47,
     "metadata": {},
     "output_type": "execute_result"
    }
   ],
   "source": [
    "pd.Series(model.named_steps[\"model\"].coef_[0], index=X_train.columns)"
   ]
  },
  {
   "cell_type": "markdown",
   "metadata": {},
   "source": [
    "- Si vede, quindi, che applicando la regolarizzazione `l1` (con questo valore di `alpha`), i parametri `TRESTBPS`, `CHOL` e `RESTECG` diventano nulli, cioè non vengono considerati dal modello"
   ]
  },
  {
   "cell_type": "markdown",
   "metadata": {},
   "source": [
    "## Regressione Logistica"
   ]
  },
  {
   "cell_type": "markdown",
   "metadata": {},
   "source": [
    "- Un altro modello di classificazione binaria che può essere testato è la `LogisticRegression`, che si basa sulla regressione lineare\n",
    "- Data una variabile y pari a 1 per gli esempi di una classe (presenza) e -1 per quelli dell'altra (assenza), si minimizza la funzione\n",
    "$$ \\sum_{i=1}^n \\log(\\exp(- y_i (X_i^T w + c)) + 1) $$"
   ]
  },
  {
   "cell_type": "code",
   "execution_count": 48,
   "metadata": {},
   "outputs": [
    {
     "data": {
      "text/plain": [
       "0.8383838383838383"
      ]
     },
     "execution_count": 48,
     "metadata": {},
     "output_type": "execute_result"
    }
   ],
   "source": [
    "from sklearn.linear_model import LogisticRegression\n",
    "model = LogisticRegression()\n",
    "model.fit(X_train, y_train)\n",
    "model.score(X_val, y_val)"
   ]
  },
  {
   "cell_type": "markdown",
   "metadata": {},
   "source": [
    "- Anche in questo caso si può testare il modello con la standardizzazione"
   ]
  },
  {
   "cell_type": "code",
   "execution_count": 49,
   "metadata": {},
   "outputs": [
    {
     "data": {
      "text/plain": [
       "0.8282828282828283"
      ]
     },
     "execution_count": 49,
     "metadata": {},
     "output_type": "execute_result"
    }
   ],
   "source": [
    "model = Pipeline([\n",
    "    (\"scaler\", StandardScaler()),\n",
    "    (\"model\",  LogisticRegression())\n",
    "])\n",
    "model.fit(X_train, y_train)\n",
    "model.score(X_val, y_val)"
   ]
  },
  {
   "cell_type": "markdown",
   "metadata": {},
   "source": [
    "- In questo modo, la `LogisticRegression` utilizza la regolarizzazione `l2`, però si può impostare `penalty=\"l1\"` per applicare la regolarizzazione `l1`\n",
    "- Al posto del parametro `alpha` che imposta il peso della regolarizzazione, utilizza il parametro `C` (costo) che imposta il reciproco di tale peso\n",
    "    - maggiore è `C`, minore sarà la regolarizzazione"
   ]
  },
  {
   "cell_type": "code",
   "execution_count": 50,
   "metadata": {
    "scrolled": true
   },
   "outputs": [
    {
     "data": {
      "text/plain": [
       "0.8585858585858586"
      ]
     },
     "execution_count": 50,
     "metadata": {},
     "output_type": "execute_result"
    }
   ],
   "source": [
    "model = Pipeline([\n",
    "    (\"scaler\", StandardScaler()),\n",
    "    (\"model\",  LogisticRegression(penalty=\"l1\", C=0.1))\n",
    "])\n",
    "model.fit(X_train, y_train)\n",
    "model.score(X_val, y_val)"
   ]
  },
  {
   "cell_type": "markdown",
   "metadata": {},
   "source": [
    "- In questo modello le feature più rilevanti sono"
   ]
  },
  {
   "cell_type": "code",
   "execution_count": 51,
   "metadata": {
    "scrolled": true
   },
   "outputs": [
    {
     "data": {
      "text/plain": [
       "AGE         0.000000\n",
       "SEX         0.104145\n",
       "CP          0.141341\n",
       "TRESTBPS    0.016044\n",
       "CHOL        0.000000\n",
       "FBS         0.000000\n",
       "RESTECG     0.000000\n",
       "THALACH    -0.216182\n",
       "EXANG       0.179833\n",
       "OLDPEAK     0.212945\n",
       "SLOPE       0.000000\n",
       "CA          0.721811\n",
       "THAL        0.566220\n",
       "dtype: float64"
      ]
     },
     "execution_count": 51,
     "metadata": {},
     "output_type": "execute_result"
    }
   ],
   "source": [
    "pd.Series(model.named_steps[\"model\"].coef_[0], index=X_train.columns)"
   ]
  },
  {
   "cell_type": "markdown",
   "metadata": {},
   "source": [
    "## Regressione Logistica con feature polinomiali"
   ]
  },
  {
   "cell_type": "markdown",
   "metadata": {},
   "source": [
    "- Un ulteriore modo di procedere, utile soprattutto nei casi di scarsa efficacia predittiva, è quello di utilizzare anche delle feature non lineari  "
   ]
  },
  {
   "cell_type": "code",
   "execution_count": 52,
   "metadata": {},
   "outputs": [
    {
     "data": {
      "text/plain": [
       "0.8181818181818182"
      ]
     },
     "execution_count": 52,
     "metadata": {},
     "output_type": "execute_result"
    }
   ],
   "source": [
    "from sklearn.linear_model import LogisticRegression\n",
    "from sklearn.preprocessing import PolynomialFeatures\n",
    "model = Pipeline([\n",
    "    (\"poly\", PolynomialFeatures(degree=2)),\n",
    "    (\"scaler\", StandardScaler()),\n",
    "    (\"logreg\", LogisticRegression())\n",
    "])\n",
    "model.fit(X_train, y_train)\n",
    "model.score(X_val, y_val)"
   ]
  },
  {
   "cell_type": "markdown",
   "metadata": {},
   "source": [
    "## Support Vector Machines"
   ]
  },
  {
   "cell_type": "markdown",
   "metadata": {},
   "source": [
    "- Un altro metodo che vale la pena di testare sono le **_Support Vector Machines_**, che in linea generale può essere più efficace di altri metodi in presenza di training set piccoli\n",
    "- Sia $ x_i = (x_1, ..., x_n) $ il vettore dell'istanza i-esima\n",
    "- Sia $ y_i $ la classe di appartenenza di $ x_i $, con $ y_i \\in \\{-1, 1\\} $\n",
    "    - 1: classe di esempi positivi (i.e. presenza malattia cardiaca)\n",
    "    - -1: classe di esempi negativi (i.e assenza malattia cardiaca)\n",
    "- Lo scopo è individuare $ w $ e $ b $ tali che l'iperpiano $ w^Tx + b = 0 $ massimizzi la separazione tra i _support vector_ delle due classi, ovvero i punti vicini al _decision boundary_\n",
    "- Il classificatore risultante è una funzione lineare $$ f(x_i) = y_i $$ \n",
    "\n",
    "\n",
    "$$ \\text{dove} y_i = \\left\\{\\begin{array}{lr}wx_i + b >= 0&:\\text{1}\\\\wx_i + b < 0&:\\text{-1}\\end{array}\\right. $$\n",
    "\n",
    "\n"
   ]
  },
  {
   "cell_type": "markdown",
   "metadata": {},
   "source": [
    "- Con kernel lineare"
   ]
  },
  {
   "cell_type": "code",
   "execution_count": 53,
   "metadata": {},
   "outputs": [
    {
     "data": {
      "text/plain": [
       "Pipeline(memory=None,\n",
       "     steps=[('scaler', StandardScaler(copy=True, with_mean=True, with_std=True)), ('model', SVC(C=1.0, cache_size=200, class_weight=None, coef0=0.0,\n",
       "  decision_function_shape='ovr', degree=3, gamma='auto_deprecated',\n",
       "  kernel='linear', max_iter=-1, probability=False, random_state=None,\n",
       "  shrinking=True, tol=0.001, verbose=False))])"
      ]
     },
     "execution_count": 53,
     "metadata": {},
     "output_type": "execute_result"
    }
   ],
   "source": [
    "from sklearn.svm import SVC\n",
    "model = Pipeline([\n",
    "    (\"scaler\", StandardScaler()),\n",
    "    (\"model\",  SVC(kernel=\"linear\"))\n",
    "])\n",
    "model.fit(X_train, y_train)"
   ]
  },
  {
   "cell_type": "code",
   "execution_count": 54,
   "metadata": {
    "scrolled": false
   },
   "outputs": [
    {
     "data": {
      "text/plain": [
       "0.8484848484848485"
      ]
     },
     "execution_count": 54,
     "metadata": {},
     "output_type": "execute_result"
    }
   ],
   "source": [
    "model.score(X_val, y_val)"
   ]
  },
  {
   "cell_type": "markdown",
   "metadata": {},
   "source": [
    "- Con kernel _Gaussian Radial Basis_"
   ]
  },
  {
   "cell_type": "code",
   "execution_count": 55,
   "metadata": {},
   "outputs": [
    {
     "data": {
      "text/plain": [
       "Pipeline(memory=None,\n",
       "     steps=[('scaler', StandardScaler(copy=True, with_mean=True, with_std=True)), ('model', SVC(C=1.0, cache_size=200, class_weight=None, coef0=0.0,\n",
       "  decision_function_shape='ovr', degree=3, gamma='auto_deprecated',\n",
       "  kernel='rbf', max_iter=-1, probability=False, random_state=None,\n",
       "  shrinking=True, tol=0.001, verbose=False))])"
      ]
     },
     "execution_count": 55,
     "metadata": {},
     "output_type": "execute_result"
    }
   ],
   "source": [
    "model = Pipeline([\n",
    "    (\"scaler\", StandardScaler()),\n",
    "    (\"model\",  SVC(kernel=\"rbf\"))\n",
    "])\n",
    "model.fit(X_train, y_train)"
   ]
  },
  {
   "cell_type": "code",
   "execution_count": 56,
   "metadata": {
    "scrolled": false
   },
   "outputs": [
    {
     "data": {
      "text/plain": [
       "0.8585858585858586"
      ]
     },
     "execution_count": 56,
     "metadata": {},
     "output_type": "execute_result"
    }
   ],
   "source": [
    "model.score(X_val, y_val)"
   ]
  },
  {
   "cell_type": "markdown",
   "metadata": {},
   "source": [
    "## Ottimizzazione degli iperparametri"
   ]
  },
  {
   "cell_type": "markdown",
   "metadata": {},
   "source": [
    "- I modelli appena testati hanno diversi iperparametri che possono influenzarne l'accuratezza\n",
    "- Finora se ne sono provati alcuni, ma è opportuno utilizzare una _Grid Search_ per testare diverse combinazioni degli iperparametri e trovare quella che fornisce risultati migliori"
   ]
  },
  {
   "cell_type": "markdown",
   "metadata": {},
   "source": [
    "- Si crea il modello generale per **`Perceptron`**"
   ]
  },
  {
   "cell_type": "code",
   "execution_count": 57,
   "metadata": {},
   "outputs": [],
   "source": [
    "pm = Pipeline([\n",
    "    (\"scaler\", StandardScaler()),\n",
    "    (\"perc\",   Perceptron())\n",
    "])"
   ]
  },
  {
   "cell_type": "markdown",
   "metadata": {},
   "source": [
    "- Si definisce la griglia di parametri, con i rispettivi valori e intervalli di valori da valutare"
   ]
  },
  {
   "cell_type": "code",
   "execution_count": 58,
   "metadata": {},
   "outputs": [],
   "source": [
    "grid = {\n",
    "    \"scaler\": [None, StandardScaler()],\n",
    "    \"perc__penalty\": [None, \"l1\", \"l2\", \"elasticnet\"],\n",
    "    \"perc__alpha\": np.logspace(-3, 3, 7) # [0.001, 0.01, ..., 100, 1000]\n",
    "}"
   ]
  },
  {
   "cell_type": "markdown",
   "metadata": {},
   "source": [
    "- Si crea un modello **`GridSearchCV`** utilizzando i due oggetti definiti sopra"
   ]
  },
  {
   "cell_type": "code",
   "execution_count": 59,
   "metadata": {},
   "outputs": [],
   "source": [
    "from sklearn.model_selection import GridSearchCV\n",
    "gsp = GridSearchCV(pm, grid, iid=True)"
   ]
  },
  {
   "cell_type": "markdown",
   "metadata": {},
   "source": [
    "- Si addestrano questi valori sul training set"
   ]
  },
  {
   "cell_type": "code",
   "execution_count": 60,
   "metadata": {},
   "outputs": [
    {
     "data": {
      "text/plain": [
       "GridSearchCV(cv='warn', error_score='raise-deprecating',\n",
       "       estimator=Pipeline(memory=None,\n",
       "     steps=[('scaler', StandardScaler(copy=True, with_mean=True, with_std=True)), ('perc', Perceptron(alpha=0.0001, class_weight=None, early_stopping=False, eta0=1.0,\n",
       "      fit_intercept=True, max_iter=None, n_iter=None, n_iter_no_change=5,\n",
       "      n_jobs=None, penalty=None, random_state=0, shuffle=True, tol=None,\n",
       "      validation_fraction=0.1, verbose=0, warm_start=False))]),\n",
       "       fit_params=None, iid=True, n_jobs=None,\n",
       "       param_grid={'scaler': [None, StandardScaler(copy=True, with_mean=True, with_std=True)], 'perc__penalty': [None, 'l1', 'l2', 'elasticnet'], 'perc__alpha': array([1.e-03, 1.e-02, 1.e-01, 1.e+00, 1.e+01, 1.e+02, 1.e+03])},\n",
       "       pre_dispatch='2*n_jobs', refit=True, return_train_score='warn',\n",
       "       scoring=None, verbose=0)"
      ]
     },
     "execution_count": 60,
     "metadata": {},
     "output_type": "execute_result"
    }
   ],
   "source": [
    "gsp.fit(X_train, y_train)"
   ]
  },
  {
   "cell_type": "markdown",
   "metadata": {},
   "source": [
    "- In questo modo viene eseguita una cross validation con 3 fold (valore di default) su tutte le combinazioni di iperparametri\n",
    "    - ossia i dati vengono suddivisi in 3 insiemi disgiunti, un sottoinsieme è usato come validation set e i rimanenti 2 come training set. Si ripete questo procedimento 3 volte con ciascuno dei 3 sottoinsiemi. Per ogni combinazione di parametri, quindi, l'accuratezza è la media delle accuratezze dei 3 modelli\n",
    "- Viene addestrato il modello sulla combinazione migliore, trattandosi di un problema di classificazione la metrica su cui si basa di default è l'accuratezza"
   ]
  },
  {
   "cell_type": "code",
   "execution_count": 61,
   "metadata": {
    "scrolled": true
   },
   "outputs": [
    {
     "data": {
      "text/plain": [
       "0.8787878787878788"
      ]
     },
     "execution_count": 61,
     "metadata": {},
     "output_type": "execute_result"
    }
   ],
   "source": [
    "gsp.score(X_val, y_val)"
   ]
  },
  {
   "cell_type": "markdown",
   "metadata": {},
   "source": [
    "- Gli iperparametri relativi al modello migliore trovato sono"
   ]
  },
  {
   "cell_type": "code",
   "execution_count": 62,
   "metadata": {},
   "outputs": [
    {
     "data": {
      "text/plain": [
       "{'perc__alpha': 0.001,\n",
       " 'perc__penalty': None,\n",
       " 'scaler': StandardScaler(copy=True, with_mean=True, with_std=True)}"
      ]
     },
     "execution_count": 62,
     "metadata": {},
     "output_type": "execute_result"
    }
   ],
   "source": [
    "gsp.best_params_"
   ]
  },
  {
   "cell_type": "markdown",
   "metadata": {},
   "source": [
    "- I coefficienti associati alle feature sono"
   ]
  },
  {
   "cell_type": "code",
   "execution_count": 63,
   "metadata": {},
   "outputs": [
    {
     "data": {
      "text/plain": [
       "AGE        -1.636090\n",
       "SEX         0.164084\n",
       "CP          1.609790\n",
       "TRESTBPS    0.357308\n",
       "CHOL        0.547867\n",
       "FBS        -1.341641\n",
       "RESTECG    -1.714464\n",
       "THALACH    -3.214592\n",
       "EXANG       2.194072\n",
       "OLDPEAK     4.719604\n",
       "SLOPE       3.090617\n",
       "CA          6.299759\n",
       "THAL        5.241051\n",
       "dtype: float64"
      ]
     },
     "execution_count": 63,
     "metadata": {},
     "output_type": "execute_result"
    }
   ],
   "source": [
    "pd.Series(gsp.best_estimator_.named_steps[\"perc\"].coef_[0], index=X_train.columns)"
   ]
  },
  {
   "cell_type": "markdown",
   "metadata": {},
   "source": [
    "- Si possono consultare i risultati dettagliati sulle diverse combinazioni di iperparametri testate\n",
    "- Si ordina per `rank_test_score` per ottenere in testa i risultati migliori"
   ]
  },
  {
   "cell_type": "code",
   "execution_count": 64,
   "metadata": {
    "scrolled": true
   },
   "outputs": [
    {
     "data": {
      "text/html": [
       "<div>\n",
       "<style scoped>\n",
       "    .dataframe tbody tr th:only-of-type {\n",
       "        vertical-align: middle;\n",
       "    }\n",
       "\n",
       "    .dataframe tbody tr th {\n",
       "        vertical-align: top;\n",
       "    }\n",
       "\n",
       "    .dataframe thead th {\n",
       "        text-align: right;\n",
       "    }\n",
       "</style>\n",
       "<table border=\"1\" class=\"dataframe\">\n",
       "  <thead>\n",
       "    <tr style=\"text-align: right;\">\n",
       "      <th></th>\n",
       "      <th>mean_fit_time</th>\n",
       "      <th>std_fit_time</th>\n",
       "      <th>mean_score_time</th>\n",
       "      <th>std_score_time</th>\n",
       "      <th>param_perc__alpha</th>\n",
       "      <th>param_perc__penalty</th>\n",
       "      <th>param_scaler</th>\n",
       "      <th>params</th>\n",
       "      <th>split0_test_score</th>\n",
       "      <th>split1_test_score</th>\n",
       "      <th>split2_test_score</th>\n",
       "      <th>mean_test_score</th>\n",
       "      <th>std_test_score</th>\n",
       "      <th>rank_test_score</th>\n",
       "      <th>split0_train_score</th>\n",
       "      <th>split1_train_score</th>\n",
       "      <th>split2_train_score</th>\n",
       "      <th>mean_train_score</th>\n",
       "      <th>std_train_score</th>\n",
       "    </tr>\n",
       "  </thead>\n",
       "  <tbody>\n",
       "    <tr>\n",
       "      <th>9</th>\n",
       "      <td>0.002776</td>\n",
       "      <td>0.000032</td>\n",
       "      <td>0.000962</td>\n",
       "      <td>0.000021</td>\n",
       "      <td>0.01</td>\n",
       "      <td>None</td>\n",
       "      <td>StandardScaler(copy=True, with_mean=True, with...</td>\n",
       "      <td>{'perc__alpha': 0.01, 'perc__penalty': None, '...</td>\n",
       "      <td>0.835821</td>\n",
       "      <td>0.818182</td>\n",
       "      <td>0.861538</td>\n",
       "      <td>0.838384</td>\n",
       "      <td>0.017728</td>\n",
       "      <td>1</td>\n",
       "      <td>0.847328</td>\n",
       "      <td>0.840909</td>\n",
       "      <td>0.796992</td>\n",
       "      <td>0.828410</td>\n",
       "      <td>0.022370</td>\n",
       "    </tr>\n",
       "    <tr>\n",
       "      <th>1</th>\n",
       "      <td>0.003382</td>\n",
       "      <td>0.000309</td>\n",
       "      <td>0.001229</td>\n",
       "      <td>0.000319</td>\n",
       "      <td>0.001</td>\n",
       "      <td>None</td>\n",
       "      <td>StandardScaler(copy=True, with_mean=True, with...</td>\n",
       "      <td>{'perc__alpha': 0.001, 'perc__penalty': None, ...</td>\n",
       "      <td>0.835821</td>\n",
       "      <td>0.818182</td>\n",
       "      <td>0.861538</td>\n",
       "      <td>0.838384</td>\n",
       "      <td>0.017728</td>\n",
       "      <td>1</td>\n",
       "      <td>0.847328</td>\n",
       "      <td>0.840909</td>\n",
       "      <td>0.796992</td>\n",
       "      <td>0.828410</td>\n",
       "      <td>0.022370</td>\n",
       "    </tr>\n",
       "    <tr>\n",
       "      <th>33</th>\n",
       "      <td>0.002667</td>\n",
       "      <td>0.000013</td>\n",
       "      <td>0.000938</td>\n",
       "      <td>0.000001</td>\n",
       "      <td>10</td>\n",
       "      <td>None</td>\n",
       "      <td>StandardScaler(copy=True, with_mean=True, with...</td>\n",
       "      <td>{'perc__alpha': 10.0, 'perc__penalty': None, '...</td>\n",
       "      <td>0.835821</td>\n",
       "      <td>0.818182</td>\n",
       "      <td>0.861538</td>\n",
       "      <td>0.838384</td>\n",
       "      <td>0.017728</td>\n",
       "      <td>1</td>\n",
       "      <td>0.847328</td>\n",
       "      <td>0.840909</td>\n",
       "      <td>0.796992</td>\n",
       "      <td>0.828410</td>\n",
       "      <td>0.022370</td>\n",
       "    </tr>\n",
       "    <tr>\n",
       "      <th>49</th>\n",
       "      <td>0.002665</td>\n",
       "      <td>0.000020</td>\n",
       "      <td>0.000935</td>\n",
       "      <td>0.000004</td>\n",
       "      <td>1000</td>\n",
       "      <td>None</td>\n",
       "      <td>StandardScaler(copy=True, with_mean=True, with...</td>\n",
       "      <td>{'perc__alpha': 1000.0, 'perc__penalty': None,...</td>\n",
       "      <td>0.835821</td>\n",
       "      <td>0.818182</td>\n",
       "      <td>0.861538</td>\n",
       "      <td>0.838384</td>\n",
       "      <td>0.017728</td>\n",
       "      <td>1</td>\n",
       "      <td>0.847328</td>\n",
       "      <td>0.840909</td>\n",
       "      <td>0.796992</td>\n",
       "      <td>0.828410</td>\n",
       "      <td>0.022370</td>\n",
       "    </tr>\n",
       "    <tr>\n",
       "      <th>41</th>\n",
       "      <td>0.002688</td>\n",
       "      <td>0.000003</td>\n",
       "      <td>0.000945</td>\n",
       "      <td>0.000002</td>\n",
       "      <td>100</td>\n",
       "      <td>None</td>\n",
       "      <td>StandardScaler(copy=True, with_mean=True, with...</td>\n",
       "      <td>{'perc__alpha': 100.0, 'perc__penalty': None, ...</td>\n",
       "      <td>0.835821</td>\n",
       "      <td>0.818182</td>\n",
       "      <td>0.861538</td>\n",
       "      <td>0.838384</td>\n",
       "      <td>0.017728</td>\n",
       "      <td>1</td>\n",
       "      <td>0.847328</td>\n",
       "      <td>0.840909</td>\n",
       "      <td>0.796992</td>\n",
       "      <td>0.828410</td>\n",
       "      <td>0.022370</td>\n",
       "    </tr>\n",
       "    <tr>\n",
       "      <th>17</th>\n",
       "      <td>0.003177</td>\n",
       "      <td>0.000255</td>\n",
       "      <td>0.001077</td>\n",
       "      <td>0.000162</td>\n",
       "      <td>0.1</td>\n",
       "      <td>None</td>\n",
       "      <td>StandardScaler(copy=True, with_mean=True, with...</td>\n",
       "      <td>{'perc__alpha': 0.1, 'perc__penalty': None, 's...</td>\n",
       "      <td>0.835821</td>\n",
       "      <td>0.818182</td>\n",
       "      <td>0.861538</td>\n",
       "      <td>0.838384</td>\n",
       "      <td>0.017728</td>\n",
       "      <td>1</td>\n",
       "      <td>0.847328</td>\n",
       "      <td>0.840909</td>\n",
       "      <td>0.796992</td>\n",
       "      <td>0.828410</td>\n",
       "      <td>0.022370</td>\n",
       "    </tr>\n",
       "    <tr>\n",
       "      <th>25</th>\n",
       "      <td>0.003252</td>\n",
       "      <td>0.000083</td>\n",
       "      <td>0.001428</td>\n",
       "      <td>0.000521</td>\n",
       "      <td>1</td>\n",
       "      <td>None</td>\n",
       "      <td>StandardScaler(copy=True, with_mean=True, with...</td>\n",
       "      <td>{'perc__alpha': 1.0, 'perc__penalty': None, 's...</td>\n",
       "      <td>0.835821</td>\n",
       "      <td>0.818182</td>\n",
       "      <td>0.861538</td>\n",
       "      <td>0.838384</td>\n",
       "      <td>0.017728</td>\n",
       "      <td>1</td>\n",
       "      <td>0.847328</td>\n",
       "      <td>0.840909</td>\n",
       "      <td>0.796992</td>\n",
       "      <td>0.828410</td>\n",
       "      <td>0.022370</td>\n",
       "    </tr>\n",
       "    <tr>\n",
       "      <th>5</th>\n",
       "      <td>0.002710</td>\n",
       "      <td>0.000020</td>\n",
       "      <td>0.000966</td>\n",
       "      <td>0.000017</td>\n",
       "      <td>0.001</td>\n",
       "      <td>l2</td>\n",
       "      <td>StandardScaler(copy=True, with_mean=True, with...</td>\n",
       "      <td>{'perc__alpha': 0.001, 'perc__penalty': 'l2', ...</td>\n",
       "      <td>0.835821</td>\n",
       "      <td>0.787879</td>\n",
       "      <td>0.784615</td>\n",
       "      <td>0.803030</td>\n",
       "      <td>0.023488</td>\n",
       "      <td>8</td>\n",
       "      <td>0.824427</td>\n",
       "      <td>0.825758</td>\n",
       "      <td>0.774436</td>\n",
       "      <td>0.808207</td>\n",
       "      <td>0.023886</td>\n",
       "    </tr>\n",
       "    <tr>\n",
       "      <th>7</th>\n",
       "      <td>0.002722</td>\n",
       "      <td>0.000011</td>\n",
       "      <td>0.000938</td>\n",
       "      <td>0.000002</td>\n",
       "      <td>0.001</td>\n",
       "      <td>elasticnet</td>\n",
       "      <td>StandardScaler(copy=True, with_mean=True, with...</td>\n",
       "      <td>{'perc__alpha': 0.001, 'perc__penalty': 'elast...</td>\n",
       "      <td>0.835821</td>\n",
       "      <td>0.787879</td>\n",
       "      <td>0.784615</td>\n",
       "      <td>0.803030</td>\n",
       "      <td>0.023488</td>\n",
       "      <td>8</td>\n",
       "      <td>0.824427</td>\n",
       "      <td>0.825758</td>\n",
       "      <td>0.774436</td>\n",
       "      <td>0.808207</td>\n",
       "      <td>0.023886</td>\n",
       "    </tr>\n",
       "    <tr>\n",
       "      <th>11</th>\n",
       "      <td>0.003971</td>\n",
       "      <td>0.000828</td>\n",
       "      <td>0.001112</td>\n",
       "      <td>0.000154</td>\n",
       "      <td>0.01</td>\n",
       "      <td>l1</td>\n",
       "      <td>StandardScaler(copy=True, with_mean=True, with...</td>\n",
       "      <td>{'perc__alpha': 0.01, 'perc__penalty': 'l1', '...</td>\n",
       "      <td>0.776119</td>\n",
       "      <td>0.787879</td>\n",
       "      <td>0.815385</td>\n",
       "      <td>0.792929</td>\n",
       "      <td>0.016421</td>\n",
       "      <td>10</td>\n",
       "      <td>0.847328</td>\n",
       "      <td>0.856061</td>\n",
       "      <td>0.766917</td>\n",
       "      <td>0.823435</td>\n",
       "      <td>0.040123</td>\n",
       "    </tr>\n",
       "  </tbody>\n",
       "</table>\n",
       "</div>"
      ],
      "text/plain": [
       "    mean_fit_time  std_fit_time  mean_score_time  std_score_time  \\\n",
       "9        0.002776      0.000032         0.000962        0.000021   \n",
       "1        0.003382      0.000309         0.001229        0.000319   \n",
       "33       0.002667      0.000013         0.000938        0.000001   \n",
       "49       0.002665      0.000020         0.000935        0.000004   \n",
       "41       0.002688      0.000003         0.000945        0.000002   \n",
       "17       0.003177      0.000255         0.001077        0.000162   \n",
       "25       0.003252      0.000083         0.001428        0.000521   \n",
       "5        0.002710      0.000020         0.000966        0.000017   \n",
       "7        0.002722      0.000011         0.000938        0.000002   \n",
       "11       0.003971      0.000828         0.001112        0.000154   \n",
       "\n",
       "   param_perc__alpha param_perc__penalty  \\\n",
       "9               0.01                None   \n",
       "1              0.001                None   \n",
       "33                10                None   \n",
       "49              1000                None   \n",
       "41               100                None   \n",
       "17               0.1                None   \n",
       "25                 1                None   \n",
       "5              0.001                  l2   \n",
       "7              0.001          elasticnet   \n",
       "11              0.01                  l1   \n",
       "\n",
       "                                         param_scaler  \\\n",
       "9   StandardScaler(copy=True, with_mean=True, with...   \n",
       "1   StandardScaler(copy=True, with_mean=True, with...   \n",
       "33  StandardScaler(copy=True, with_mean=True, with...   \n",
       "49  StandardScaler(copy=True, with_mean=True, with...   \n",
       "41  StandardScaler(copy=True, with_mean=True, with...   \n",
       "17  StandardScaler(copy=True, with_mean=True, with...   \n",
       "25  StandardScaler(copy=True, with_mean=True, with...   \n",
       "5   StandardScaler(copy=True, with_mean=True, with...   \n",
       "7   StandardScaler(copy=True, with_mean=True, with...   \n",
       "11  StandardScaler(copy=True, with_mean=True, with...   \n",
       "\n",
       "                                               params  split0_test_score  \\\n",
       "9   {'perc__alpha': 0.01, 'perc__penalty': None, '...           0.835821   \n",
       "1   {'perc__alpha': 0.001, 'perc__penalty': None, ...           0.835821   \n",
       "33  {'perc__alpha': 10.0, 'perc__penalty': None, '...           0.835821   \n",
       "49  {'perc__alpha': 1000.0, 'perc__penalty': None,...           0.835821   \n",
       "41  {'perc__alpha': 100.0, 'perc__penalty': None, ...           0.835821   \n",
       "17  {'perc__alpha': 0.1, 'perc__penalty': None, 's...           0.835821   \n",
       "25  {'perc__alpha': 1.0, 'perc__penalty': None, 's...           0.835821   \n",
       "5   {'perc__alpha': 0.001, 'perc__penalty': 'l2', ...           0.835821   \n",
       "7   {'perc__alpha': 0.001, 'perc__penalty': 'elast...           0.835821   \n",
       "11  {'perc__alpha': 0.01, 'perc__penalty': 'l1', '...           0.776119   \n",
       "\n",
       "    split1_test_score  split2_test_score  mean_test_score  std_test_score  \\\n",
       "9            0.818182           0.861538         0.838384        0.017728   \n",
       "1            0.818182           0.861538         0.838384        0.017728   \n",
       "33           0.818182           0.861538         0.838384        0.017728   \n",
       "49           0.818182           0.861538         0.838384        0.017728   \n",
       "41           0.818182           0.861538         0.838384        0.017728   \n",
       "17           0.818182           0.861538         0.838384        0.017728   \n",
       "25           0.818182           0.861538         0.838384        0.017728   \n",
       "5            0.787879           0.784615         0.803030        0.023488   \n",
       "7            0.787879           0.784615         0.803030        0.023488   \n",
       "11           0.787879           0.815385         0.792929        0.016421   \n",
       "\n",
       "    rank_test_score  split0_train_score  split1_train_score  \\\n",
       "9                 1            0.847328            0.840909   \n",
       "1                 1            0.847328            0.840909   \n",
       "33                1            0.847328            0.840909   \n",
       "49                1            0.847328            0.840909   \n",
       "41                1            0.847328            0.840909   \n",
       "17                1            0.847328            0.840909   \n",
       "25                1            0.847328            0.840909   \n",
       "5                 8            0.824427            0.825758   \n",
       "7                 8            0.824427            0.825758   \n",
       "11               10            0.847328            0.856061   \n",
       "\n",
       "    split2_train_score  mean_train_score  std_train_score  \n",
       "9             0.796992          0.828410         0.022370  \n",
       "1             0.796992          0.828410         0.022370  \n",
       "33            0.796992          0.828410         0.022370  \n",
       "49            0.796992          0.828410         0.022370  \n",
       "41            0.796992          0.828410         0.022370  \n",
       "17            0.796992          0.828410         0.022370  \n",
       "25            0.796992          0.828410         0.022370  \n",
       "5             0.774436          0.808207         0.023886  \n",
       "7             0.774436          0.808207         0.023886  \n",
       "11            0.766917          0.823435         0.040123  "
      ]
     },
     "execution_count": 64,
     "metadata": {},
     "output_type": "execute_result"
    }
   ],
   "source": [
    "pd.DataFrame(gsp.cv_results_).sort_values(\"rank_test_score\").head(10)"
   ]
  },
  {
   "cell_type": "markdown",
   "metadata": {},
   "source": [
    "- Si ripetono gli stessi passaggi per la **`Logistic Regression`**"
   ]
  },
  {
   "cell_type": "code",
   "execution_count": 65,
   "metadata": {},
   "outputs": [
    {
     "data": {
      "text/plain": [
       "0.8585858585858586"
      ]
     },
     "execution_count": 65,
     "metadata": {},
     "output_type": "execute_result"
    }
   ],
   "source": [
    "lrm = Pipeline([\n",
    "    (\"scaler\", StandardScaler()),\n",
    "    (\"lr\",     LogisticRegression())\n",
    "])\n",
    "grid = {\n",
    "    \"scaler\": [None, StandardScaler()],\n",
    "    \"lr__penalty\": [\"l2\", \"l1\"],\n",
    "    \"lr__C\": np.logspace(-3, 3, 7)\n",
    "}\n",
    "gslr = GridSearchCV(lrm, grid, iid=True)\n",
    "gslr.fit(X_train, y_train)\n",
    "gslr.score(X_val, y_val)"
   ]
  },
  {
   "cell_type": "markdown",
   "metadata": {},
   "source": [
    "- Gli iperparametri relativi al modello migliore trovato sono"
   ]
  },
  {
   "cell_type": "code",
   "execution_count": 66,
   "metadata": {},
   "outputs": [
    {
     "data": {
      "text/plain": [
       "{'lr__C': 0.01,\n",
       " 'lr__penalty': 'l2',\n",
       " 'scaler': StandardScaler(copy=True, with_mean=True, with_std=True)}"
      ]
     },
     "execution_count": 66,
     "metadata": {},
     "output_type": "execute_result"
    }
   ],
   "source": [
    "gslr.best_params_"
   ]
  },
  {
   "cell_type": "markdown",
   "metadata": {},
   "source": [
    "- I coefficienti associati alle feature sono"
   ]
  },
  {
   "cell_type": "code",
   "execution_count": 67,
   "metadata": {},
   "outputs": [
    {
     "data": {
      "text/plain": [
       "AGE         0.071244\n",
       "SEX         0.157256\n",
       "CP          0.155065\n",
       "TRESTBPS    0.081579\n",
       "CHOL        0.056168\n",
       "FBS        -0.037804\n",
       "RESTECG     0.062778\n",
       "THALACH    -0.160586\n",
       "EXANG       0.150917\n",
       "OLDPEAK     0.161933\n",
       "SLOPE       0.065891\n",
       "CA          0.261966\n",
       "THAL        0.245206\n",
       "dtype: float64"
      ]
     },
     "execution_count": 67,
     "metadata": {},
     "output_type": "execute_result"
    }
   ],
   "source": [
    "pd.Series(gslr.best_estimator_.named_steps[\"lr\"].coef_[0], index=X_train.columns)"
   ]
  },
  {
   "cell_type": "code",
   "execution_count": 68,
   "metadata": {
    "scrolled": true
   },
   "outputs": [
    {
     "data": {
      "text/html": [
       "<div>\n",
       "<style scoped>\n",
       "    .dataframe tbody tr th:only-of-type {\n",
       "        vertical-align: middle;\n",
       "    }\n",
       "\n",
       "    .dataframe tbody tr th {\n",
       "        vertical-align: top;\n",
       "    }\n",
       "\n",
       "    .dataframe thead th {\n",
       "        text-align: right;\n",
       "    }\n",
       "</style>\n",
       "<table border=\"1\" class=\"dataframe\">\n",
       "  <thead>\n",
       "    <tr style=\"text-align: right;\">\n",
       "      <th></th>\n",
       "      <th>mean_fit_time</th>\n",
       "      <th>std_fit_time</th>\n",
       "      <th>mean_score_time</th>\n",
       "      <th>std_score_time</th>\n",
       "      <th>param_lr__C</th>\n",
       "      <th>param_lr__penalty</th>\n",
       "      <th>param_scaler</th>\n",
       "      <th>params</th>\n",
       "      <th>split0_test_score</th>\n",
       "      <th>split1_test_score</th>\n",
       "      <th>split2_test_score</th>\n",
       "      <th>mean_test_score</th>\n",
       "      <th>std_test_score</th>\n",
       "      <th>rank_test_score</th>\n",
       "      <th>split0_train_score</th>\n",
       "      <th>split1_train_score</th>\n",
       "      <th>split2_train_score</th>\n",
       "      <th>mean_train_score</th>\n",
       "      <th>std_train_score</th>\n",
       "    </tr>\n",
       "  </thead>\n",
       "  <tbody>\n",
       "    <tr>\n",
       "      <th>5</th>\n",
       "      <td>0.002761</td>\n",
       "      <td>0.000102</td>\n",
       "      <td>0.000948</td>\n",
       "      <td>8.083605e-06</td>\n",
       "      <td>0.01</td>\n",
       "      <td>l2</td>\n",
       "      <td>StandardScaler(copy=True, with_mean=True, with...</td>\n",
       "      <td>{'lr__C': 0.01, 'lr__penalty': 'l2', 'scaler':...</td>\n",
       "      <td>0.805970</td>\n",
       "      <td>0.863636</td>\n",
       "      <td>0.815385</td>\n",
       "      <td>0.828283</td>\n",
       "      <td>0.025292</td>\n",
       "      <td>1</td>\n",
       "      <td>0.854962</td>\n",
       "      <td>0.856061</td>\n",
       "      <td>0.849624</td>\n",
       "      <td>0.853549</td>\n",
       "      <td>0.002811</td>\n",
       "    </tr>\n",
       "    <tr>\n",
       "      <th>9</th>\n",
       "      <td>0.002749</td>\n",
       "      <td>0.000047</td>\n",
       "      <td>0.000947</td>\n",
       "      <td>3.170957e-06</td>\n",
       "      <td>0.1</td>\n",
       "      <td>l2</td>\n",
       "      <td>StandardScaler(copy=True, with_mean=True, with...</td>\n",
       "      <td>{'lr__C': 0.1, 'lr__penalty': 'l2', 'scaler': ...</td>\n",
       "      <td>0.820896</td>\n",
       "      <td>0.848485</td>\n",
       "      <td>0.815385</td>\n",
       "      <td>0.828283</td>\n",
       "      <td>0.014461</td>\n",
       "      <td>1</td>\n",
       "      <td>0.862595</td>\n",
       "      <td>0.863636</td>\n",
       "      <td>0.857143</td>\n",
       "      <td>0.861125</td>\n",
       "      <td>0.002848</td>\n",
       "    </tr>\n",
       "    <tr>\n",
       "      <th>16</th>\n",
       "      <td>0.002143</td>\n",
       "      <td>0.000026</td>\n",
       "      <td>0.000783</td>\n",
       "      <td>2.135440e-06</td>\n",
       "      <td>10</td>\n",
       "      <td>l2</td>\n",
       "      <td>None</td>\n",
       "      <td>{'lr__C': 10.0, 'lr__penalty': 'l2', 'scaler':...</td>\n",
       "      <td>0.805970</td>\n",
       "      <td>0.863636</td>\n",
       "      <td>0.800000</td>\n",
       "      <td>0.823232</td>\n",
       "      <td>0.028674</td>\n",
       "      <td>3</td>\n",
       "      <td>0.877863</td>\n",
       "      <td>0.848485</td>\n",
       "      <td>0.872180</td>\n",
       "      <td>0.866176</td>\n",
       "      <td>0.012723</td>\n",
       "    </tr>\n",
       "    <tr>\n",
       "      <th>15</th>\n",
       "      <td>0.002752</td>\n",
       "      <td>0.000053</td>\n",
       "      <td>0.000948</td>\n",
       "      <td>2.734606e-06</td>\n",
       "      <td>1</td>\n",
       "      <td>l1</td>\n",
       "      <td>StandardScaler(copy=True, with_mean=True, with...</td>\n",
       "      <td>{'lr__C': 1.0, 'lr__penalty': 'l1', 'scaler': ...</td>\n",
       "      <td>0.805970</td>\n",
       "      <td>0.833333</td>\n",
       "      <td>0.830769</td>\n",
       "      <td>0.823232</td>\n",
       "      <td>0.012389</td>\n",
       "      <td>3</td>\n",
       "      <td>0.870229</td>\n",
       "      <td>0.863636</td>\n",
       "      <td>0.864662</td>\n",
       "      <td>0.866176</td>\n",
       "      <td>0.002897</td>\n",
       "    </tr>\n",
       "    <tr>\n",
       "      <th>8</th>\n",
       "      <td>0.001885</td>\n",
       "      <td>0.000010</td>\n",
       "      <td>0.000787</td>\n",
       "      <td>4.545959e-06</td>\n",
       "      <td>0.1</td>\n",
       "      <td>l2</td>\n",
       "      <td>None</td>\n",
       "      <td>{'lr__C': 0.1, 'lr__penalty': 'l2', 'scaler': ...</td>\n",
       "      <td>0.850746</td>\n",
       "      <td>0.833333</td>\n",
       "      <td>0.784615</td>\n",
       "      <td>0.823232</td>\n",
       "      <td>0.027924</td>\n",
       "      <td>3</td>\n",
       "      <td>0.839695</td>\n",
       "      <td>0.856061</td>\n",
       "      <td>0.864662</td>\n",
       "      <td>0.853472</td>\n",
       "      <td>0.010356</td>\n",
       "    </tr>\n",
       "    <tr>\n",
       "      <th>14</th>\n",
       "      <td>0.003612</td>\n",
       "      <td>0.000268</td>\n",
       "      <td>0.000788</td>\n",
       "      <td>6.001122e-06</td>\n",
       "      <td>1</td>\n",
       "      <td>l1</td>\n",
       "      <td>None</td>\n",
       "      <td>{'lr__C': 1.0, 'lr__penalty': 'l1', 'scaler': ...</td>\n",
       "      <td>0.791045</td>\n",
       "      <td>0.863636</td>\n",
       "      <td>0.815385</td>\n",
       "      <td>0.823232</td>\n",
       "      <td>0.030248</td>\n",
       "      <td>3</td>\n",
       "      <td>0.877863</td>\n",
       "      <td>0.856061</td>\n",
       "      <td>0.864662</td>\n",
       "      <td>0.866195</td>\n",
       "      <td>0.008966</td>\n",
       "    </tr>\n",
       "    <tr>\n",
       "      <th>12</th>\n",
       "      <td>0.002107</td>\n",
       "      <td>0.000068</td>\n",
       "      <td>0.000857</td>\n",
       "      <td>8.752903e-05</td>\n",
       "      <td>1</td>\n",
       "      <td>l2</td>\n",
       "      <td>None</td>\n",
       "      <td>{'lr__C': 1.0, 'lr__penalty': 'l2', 'scaler': ...</td>\n",
       "      <td>0.805970</td>\n",
       "      <td>0.848485</td>\n",
       "      <td>0.815385</td>\n",
       "      <td>0.823232</td>\n",
       "      <td>0.018265</td>\n",
       "      <td>3</td>\n",
       "      <td>0.877863</td>\n",
       "      <td>0.848485</td>\n",
       "      <td>0.879699</td>\n",
       "      <td>0.868682</td>\n",
       "      <td>0.014301</td>\n",
       "    </tr>\n",
       "    <tr>\n",
       "      <th>13</th>\n",
       "      <td>0.002828</td>\n",
       "      <td>0.000059</td>\n",
       "      <td>0.000965</td>\n",
       "      <td>2.277393e-05</td>\n",
       "      <td>1</td>\n",
       "      <td>l2</td>\n",
       "      <td>StandardScaler(copy=True, with_mean=True, with...</td>\n",
       "      <td>{'lr__C': 1.0, 'lr__penalty': 'l2', 'scaler': ...</td>\n",
       "      <td>0.805970</td>\n",
       "      <td>0.848485</td>\n",
       "      <td>0.800000</td>\n",
       "      <td>0.818182</td>\n",
       "      <td>0.021566</td>\n",
       "      <td>8</td>\n",
       "      <td>0.854962</td>\n",
       "      <td>0.863636</td>\n",
       "      <td>0.872180</td>\n",
       "      <td>0.863593</td>\n",
       "      <td>0.007030</td>\n",
       "    </tr>\n",
       "    <tr>\n",
       "      <th>25</th>\n",
       "      <td>0.002760</td>\n",
       "      <td>0.000032</td>\n",
       "      <td>0.000943</td>\n",
       "      <td>8.778064e-07</td>\n",
       "      <td>1000</td>\n",
       "      <td>l2</td>\n",
       "      <td>StandardScaler(copy=True, with_mean=True, with...</td>\n",
       "      <td>{'lr__C': 1000.0, 'lr__penalty': 'l2', 'scaler...</td>\n",
       "      <td>0.791045</td>\n",
       "      <td>0.833333</td>\n",
       "      <td>0.815385</td>\n",
       "      <td>0.813131</td>\n",
       "      <td>0.017400</td>\n",
       "      <td>9</td>\n",
       "      <td>0.862595</td>\n",
       "      <td>0.856061</td>\n",
       "      <td>0.879699</td>\n",
       "      <td>0.866118</td>\n",
       "      <td>0.009967</td>\n",
       "    </tr>\n",
       "    <tr>\n",
       "      <th>23</th>\n",
       "      <td>0.002764</td>\n",
       "      <td>0.000013</td>\n",
       "      <td>0.000945</td>\n",
       "      <td>1.561394e-06</td>\n",
       "      <td>100</td>\n",
       "      <td>l1</td>\n",
       "      <td>StandardScaler(copy=True, with_mean=True, with...</td>\n",
       "      <td>{'lr__C': 100.0, 'lr__penalty': 'l1', 'scaler'...</td>\n",
       "      <td>0.791045</td>\n",
       "      <td>0.833333</td>\n",
       "      <td>0.815385</td>\n",
       "      <td>0.813131</td>\n",
       "      <td>0.017400</td>\n",
       "      <td>9</td>\n",
       "      <td>0.862595</td>\n",
       "      <td>0.856061</td>\n",
       "      <td>0.879699</td>\n",
       "      <td>0.866118</td>\n",
       "      <td>0.009967</td>\n",
       "    </tr>\n",
       "  </tbody>\n",
       "</table>\n",
       "</div>"
      ],
      "text/plain": [
       "    mean_fit_time  std_fit_time  mean_score_time  std_score_time param_lr__C  \\\n",
       "5        0.002761      0.000102         0.000948    8.083605e-06        0.01   \n",
       "9        0.002749      0.000047         0.000947    3.170957e-06         0.1   \n",
       "16       0.002143      0.000026         0.000783    2.135440e-06          10   \n",
       "15       0.002752      0.000053         0.000948    2.734606e-06           1   \n",
       "8        0.001885      0.000010         0.000787    4.545959e-06         0.1   \n",
       "14       0.003612      0.000268         0.000788    6.001122e-06           1   \n",
       "12       0.002107      0.000068         0.000857    8.752903e-05           1   \n",
       "13       0.002828      0.000059         0.000965    2.277393e-05           1   \n",
       "25       0.002760      0.000032         0.000943    8.778064e-07        1000   \n",
       "23       0.002764      0.000013         0.000945    1.561394e-06         100   \n",
       "\n",
       "   param_lr__penalty                                       param_scaler  \\\n",
       "5                 l2  StandardScaler(copy=True, with_mean=True, with...   \n",
       "9                 l2  StandardScaler(copy=True, with_mean=True, with...   \n",
       "16                l2                                               None   \n",
       "15                l1  StandardScaler(copy=True, with_mean=True, with...   \n",
       "8                 l2                                               None   \n",
       "14                l1                                               None   \n",
       "12                l2                                               None   \n",
       "13                l2  StandardScaler(copy=True, with_mean=True, with...   \n",
       "25                l2  StandardScaler(copy=True, with_mean=True, with...   \n",
       "23                l1  StandardScaler(copy=True, with_mean=True, with...   \n",
       "\n",
       "                                               params  split0_test_score  \\\n",
       "5   {'lr__C': 0.01, 'lr__penalty': 'l2', 'scaler':...           0.805970   \n",
       "9   {'lr__C': 0.1, 'lr__penalty': 'l2', 'scaler': ...           0.820896   \n",
       "16  {'lr__C': 10.0, 'lr__penalty': 'l2', 'scaler':...           0.805970   \n",
       "15  {'lr__C': 1.0, 'lr__penalty': 'l1', 'scaler': ...           0.805970   \n",
       "8   {'lr__C': 0.1, 'lr__penalty': 'l2', 'scaler': ...           0.850746   \n",
       "14  {'lr__C': 1.0, 'lr__penalty': 'l1', 'scaler': ...           0.791045   \n",
       "12  {'lr__C': 1.0, 'lr__penalty': 'l2', 'scaler': ...           0.805970   \n",
       "13  {'lr__C': 1.0, 'lr__penalty': 'l2', 'scaler': ...           0.805970   \n",
       "25  {'lr__C': 1000.0, 'lr__penalty': 'l2', 'scaler...           0.791045   \n",
       "23  {'lr__C': 100.0, 'lr__penalty': 'l1', 'scaler'...           0.791045   \n",
       "\n",
       "    split1_test_score  split2_test_score  mean_test_score  std_test_score  \\\n",
       "5            0.863636           0.815385         0.828283        0.025292   \n",
       "9            0.848485           0.815385         0.828283        0.014461   \n",
       "16           0.863636           0.800000         0.823232        0.028674   \n",
       "15           0.833333           0.830769         0.823232        0.012389   \n",
       "8            0.833333           0.784615         0.823232        0.027924   \n",
       "14           0.863636           0.815385         0.823232        0.030248   \n",
       "12           0.848485           0.815385         0.823232        0.018265   \n",
       "13           0.848485           0.800000         0.818182        0.021566   \n",
       "25           0.833333           0.815385         0.813131        0.017400   \n",
       "23           0.833333           0.815385         0.813131        0.017400   \n",
       "\n",
       "    rank_test_score  split0_train_score  split1_train_score  \\\n",
       "5                 1            0.854962            0.856061   \n",
       "9                 1            0.862595            0.863636   \n",
       "16                3            0.877863            0.848485   \n",
       "15                3            0.870229            0.863636   \n",
       "8                 3            0.839695            0.856061   \n",
       "14                3            0.877863            0.856061   \n",
       "12                3            0.877863            0.848485   \n",
       "13                8            0.854962            0.863636   \n",
       "25                9            0.862595            0.856061   \n",
       "23                9            0.862595            0.856061   \n",
       "\n",
       "    split2_train_score  mean_train_score  std_train_score  \n",
       "5             0.849624          0.853549         0.002811  \n",
       "9             0.857143          0.861125         0.002848  \n",
       "16            0.872180          0.866176         0.012723  \n",
       "15            0.864662          0.866176         0.002897  \n",
       "8             0.864662          0.853472         0.010356  \n",
       "14            0.864662          0.866195         0.008966  \n",
       "12            0.879699          0.868682         0.014301  \n",
       "13            0.872180          0.863593         0.007030  \n",
       "25            0.879699          0.866118         0.009967  \n",
       "23            0.879699          0.866118         0.009967  "
      ]
     },
     "execution_count": 68,
     "metadata": {},
     "output_type": "execute_result"
    }
   ],
   "source": [
    "pd.DataFrame(gslr.cv_results_).sort_values(\"rank_test_score\").head(10)"
   ]
  },
  {
   "cell_type": "markdown",
   "metadata": {},
   "source": [
    "- Infine si testa la _Grid Search_ anche su **`Support Vector Machines`**"
   ]
  },
  {
   "cell_type": "code",
   "execution_count": 69,
   "metadata": {},
   "outputs": [
    {
     "data": {
      "text/plain": [
       "0.8484848484848485"
      ]
     },
     "execution_count": 69,
     "metadata": {},
     "output_type": "execute_result"
    }
   ],
   "source": [
    "svm = Pipeline([\n",
    "    (\"scaler\", StandardScaler()),\n",
    "    (\"svm\",     SVC())\n",
    "])\n",
    "grid = {\n",
    "    \"scaler\": [None, StandardScaler()],\n",
    "    \"svm__kernel\": [\"linear\", \"rbf\"],\n",
    "    \"svm__C\": np.logspace(-3, 3, 7),\n",
    "    \"svm__gamma\": np.logspace(-3, 3, 7)\n",
    "}\n",
    "gssvm = GridSearchCV(svm, grid, iid=True)\n",
    "gssvm.fit(X_train, y_train)\n",
    "gssvm.score(X_val, y_val)"
   ]
  },
  {
   "cell_type": "markdown",
   "metadata": {},
   "source": [
    "- Gli iperparametri relativi al modello migliore trovato sono"
   ]
  },
  {
   "cell_type": "code",
   "execution_count": 70,
   "metadata": {},
   "outputs": [
    {
     "data": {
      "text/plain": [
       "{'scaler': None, 'svm__C': 10.0, 'svm__gamma': 0.001, 'svm__kernel': 'linear'}"
      ]
     },
     "execution_count": 70,
     "metadata": {},
     "output_type": "execute_result"
    }
   ],
   "source": [
    "gssvm.best_params_"
   ]
  },
  {
   "cell_type": "markdown",
   "metadata": {},
   "source": [
    "- I coefficienti associati alle feature sono"
   ]
  },
  {
   "cell_type": "code",
   "execution_count": 71,
   "metadata": {},
   "outputs": [
    {
     "data": {
      "text/plain": [
       "AGE        -0.019249\n",
       "SEX         1.130462\n",
       "CP          0.258489\n",
       "TRESTBPS    0.020086\n",
       "CHOL        0.006359\n",
       "FBS        -0.712326\n",
       "RESTECG     0.209826\n",
       "THALACH    -0.023259\n",
       "EXANG       0.536961\n",
       "OLDPEAK     0.238927\n",
       "SLOPE       0.200132\n",
       "CA          0.995067\n",
       "THAL        0.285389\n",
       "dtype: float64"
      ]
     },
     "execution_count": 71,
     "metadata": {},
     "output_type": "execute_result"
    }
   ],
   "source": [
    "pd.Series(gssvm.best_estimator_.named_steps[\"svm\"].coef_[0], index=X_train.columns)"
   ]
  },
  {
   "cell_type": "code",
   "execution_count": 72,
   "metadata": {
    "scrolled": true
   },
   "outputs": [
    {
     "data": {
      "text/html": [
       "<div>\n",
       "<style scoped>\n",
       "    .dataframe tbody tr th:only-of-type {\n",
       "        vertical-align: middle;\n",
       "    }\n",
       "\n",
       "    .dataframe tbody tr th {\n",
       "        vertical-align: top;\n",
       "    }\n",
       "\n",
       "    .dataframe thead th {\n",
       "        text-align: right;\n",
       "    }\n",
       "</style>\n",
       "<table border=\"1\" class=\"dataframe\">\n",
       "  <thead>\n",
       "    <tr style=\"text-align: right;\">\n",
       "      <th></th>\n",
       "      <th>mean_fit_time</th>\n",
       "      <th>std_fit_time</th>\n",
       "      <th>mean_score_time</th>\n",
       "      <th>std_score_time</th>\n",
       "      <th>param_scaler</th>\n",
       "      <th>param_svm__C</th>\n",
       "      <th>param_svm__gamma</th>\n",
       "      <th>param_svm__kernel</th>\n",
       "      <th>params</th>\n",
       "      <th>split0_test_score</th>\n",
       "      <th>split1_test_score</th>\n",
       "      <th>split2_test_score</th>\n",
       "      <th>mean_test_score</th>\n",
       "      <th>std_test_score</th>\n",
       "      <th>rank_test_score</th>\n",
       "      <th>split0_train_score</th>\n",
       "      <th>split1_train_score</th>\n",
       "      <th>split2_train_score</th>\n",
       "      <th>mean_train_score</th>\n",
       "      <th>std_train_score</th>\n",
       "    </tr>\n",
       "  </thead>\n",
       "  <tbody>\n",
       "    <tr>\n",
       "      <th>66</th>\n",
       "      <td>1.319799</td>\n",
       "      <td>0.717716</td>\n",
       "      <td>0.001177</td>\n",
       "      <td>0.000005</td>\n",
       "      <td>None</td>\n",
       "      <td>10</td>\n",
       "      <td>100</td>\n",
       "      <td>linear</td>\n",
       "      <td>{'scaler': None, 'svm__C': 10.0, 'svm__gamma':...</td>\n",
       "      <td>0.850746</td>\n",
       "      <td>0.863636</td>\n",
       "      <td>0.830769</td>\n",
       "      <td>0.848485</td>\n",
       "      <td>0.013464</td>\n",
       "      <td>1</td>\n",
       "      <td>0.877863</td>\n",
       "      <td>0.871212</td>\n",
       "      <td>0.872180</td>\n",
       "      <td>0.873752</td>\n",
       "      <td>0.002934</td>\n",
       "    </tr>\n",
       "    <tr>\n",
       "      <th>62</th>\n",
       "      <td>1.317334</td>\n",
       "      <td>0.703236</td>\n",
       "      <td>0.001176</td>\n",
       "      <td>0.000002</td>\n",
       "      <td>None</td>\n",
       "      <td>10</td>\n",
       "      <td>1</td>\n",
       "      <td>linear</td>\n",
       "      <td>{'scaler': None, 'svm__C': 10.0, 'svm__gamma':...</td>\n",
       "      <td>0.850746</td>\n",
       "      <td>0.863636</td>\n",
       "      <td>0.830769</td>\n",
       "      <td>0.848485</td>\n",
       "      <td>0.013464</td>\n",
       "      <td>1</td>\n",
       "      <td>0.877863</td>\n",
       "      <td>0.871212</td>\n",
       "      <td>0.872180</td>\n",
       "      <td>0.873752</td>\n",
       "      <td>0.002934</td>\n",
       "    </tr>\n",
       "    <tr>\n",
       "      <th>60</th>\n",
       "      <td>1.314708</td>\n",
       "      <td>0.700694</td>\n",
       "      <td>0.001150</td>\n",
       "      <td>0.000031</td>\n",
       "      <td>None</td>\n",
       "      <td>10</td>\n",
       "      <td>0.1</td>\n",
       "      <td>linear</td>\n",
       "      <td>{'scaler': None, 'svm__C': 10.0, 'svm__gamma':...</td>\n",
       "      <td>0.850746</td>\n",
       "      <td>0.863636</td>\n",
       "      <td>0.830769</td>\n",
       "      <td>0.848485</td>\n",
       "      <td>0.013464</td>\n",
       "      <td>1</td>\n",
       "      <td>0.877863</td>\n",
       "      <td>0.871212</td>\n",
       "      <td>0.872180</td>\n",
       "      <td>0.873752</td>\n",
       "      <td>0.002934</td>\n",
       "    </tr>\n",
       "    <tr>\n",
       "      <th>58</th>\n",
       "      <td>1.319333</td>\n",
       "      <td>0.712252</td>\n",
       "      <td>0.001194</td>\n",
       "      <td>0.000015</td>\n",
       "      <td>None</td>\n",
       "      <td>10</td>\n",
       "      <td>0.01</td>\n",
       "      <td>linear</td>\n",
       "      <td>{'scaler': None, 'svm__C': 10.0, 'svm__gamma':...</td>\n",
       "      <td>0.850746</td>\n",
       "      <td>0.863636</td>\n",
       "      <td>0.830769</td>\n",
       "      <td>0.848485</td>\n",
       "      <td>0.013464</td>\n",
       "      <td>1</td>\n",
       "      <td>0.877863</td>\n",
       "      <td>0.871212</td>\n",
       "      <td>0.872180</td>\n",
       "      <td>0.873752</td>\n",
       "      <td>0.002934</td>\n",
       "    </tr>\n",
       "    <tr>\n",
       "      <th>56</th>\n",
       "      <td>1.329868</td>\n",
       "      <td>0.709656</td>\n",
       "      <td>0.001170</td>\n",
       "      <td>0.000042</td>\n",
       "      <td>None</td>\n",
       "      <td>10</td>\n",
       "      <td>0.001</td>\n",
       "      <td>linear</td>\n",
       "      <td>{'scaler': None, 'svm__C': 10.0, 'svm__gamma':...</td>\n",
       "      <td>0.850746</td>\n",
       "      <td>0.863636</td>\n",
       "      <td>0.830769</td>\n",
       "      <td>0.848485</td>\n",
       "      <td>0.013464</td>\n",
       "      <td>1</td>\n",
       "      <td>0.877863</td>\n",
       "      <td>0.871212</td>\n",
       "      <td>0.872180</td>\n",
       "      <td>0.873752</td>\n",
       "      <td>0.002934</td>\n",
       "    </tr>\n",
       "    <tr>\n",
       "      <th>64</th>\n",
       "      <td>1.305953</td>\n",
       "      <td>0.706408</td>\n",
       "      <td>0.001170</td>\n",
       "      <td>0.000003</td>\n",
       "      <td>None</td>\n",
       "      <td>10</td>\n",
       "      <td>10</td>\n",
       "      <td>linear</td>\n",
       "      <td>{'scaler': None, 'svm__C': 10.0, 'svm__gamma':...</td>\n",
       "      <td>0.850746</td>\n",
       "      <td>0.863636</td>\n",
       "      <td>0.830769</td>\n",
       "      <td>0.848485</td>\n",
       "      <td>0.013464</td>\n",
       "      <td>1</td>\n",
       "      <td>0.877863</td>\n",
       "      <td>0.871212</td>\n",
       "      <td>0.872180</td>\n",
       "      <td>0.873752</td>\n",
       "      <td>0.002934</td>\n",
       "    </tr>\n",
       "    <tr>\n",
       "      <th>68</th>\n",
       "      <td>1.298684</td>\n",
       "      <td>0.703148</td>\n",
       "      <td>0.001189</td>\n",
       "      <td>0.000005</td>\n",
       "      <td>None</td>\n",
       "      <td>10</td>\n",
       "      <td>1000</td>\n",
       "      <td>linear</td>\n",
       "      <td>{'scaler': None, 'svm__C': 10.0, 'svm__gamma':...</td>\n",
       "      <td>0.850746</td>\n",
       "      <td>0.863636</td>\n",
       "      <td>0.830769</td>\n",
       "      <td>0.848485</td>\n",
       "      <td>0.013464</td>\n",
       "      <td>1</td>\n",
       "      <td>0.877863</td>\n",
       "      <td>0.871212</td>\n",
       "      <td>0.872180</td>\n",
       "      <td>0.873752</td>\n",
       "      <td>0.002934</td>\n",
       "    </tr>\n",
       "    <tr>\n",
       "      <th>142</th>\n",
       "      <td>0.003625</td>\n",
       "      <td>0.000315</td>\n",
       "      <td>0.001043</td>\n",
       "      <td>0.000006</td>\n",
       "      <td>StandardScaler(copy=True, with_mean=True, with...</td>\n",
       "      <td>1</td>\n",
       "      <td>0.01</td>\n",
       "      <td>linear</td>\n",
       "      <td>{'scaler': StandardScaler(copy=True, with_mean...</td>\n",
       "      <td>0.835821</td>\n",
       "      <td>0.848485</td>\n",
       "      <td>0.830769</td>\n",
       "      <td>0.838384</td>\n",
       "      <td>0.007434</td>\n",
       "      <td>8</td>\n",
       "      <td>0.862595</td>\n",
       "      <td>0.871212</td>\n",
       "      <td>0.879699</td>\n",
       "      <td>0.871169</td>\n",
       "      <td>0.006983</td>\n",
       "    </tr>\n",
       "    <tr>\n",
       "      <th>143</th>\n",
       "      <td>0.003024</td>\n",
       "      <td>0.000012</td>\n",
       "      <td>0.001112</td>\n",
       "      <td>0.000003</td>\n",
       "      <td>StandardScaler(copy=True, with_mean=True, with...</td>\n",
       "      <td>1</td>\n",
       "      <td>0.01</td>\n",
       "      <td>rbf</td>\n",
       "      <td>{'scaler': StandardScaler(copy=True, with_mean...</td>\n",
       "      <td>0.820896</td>\n",
       "      <td>0.848485</td>\n",
       "      <td>0.846154</td>\n",
       "      <td>0.838384</td>\n",
       "      <td>0.012543</td>\n",
       "      <td>8</td>\n",
       "      <td>0.870229</td>\n",
       "      <td>0.863636</td>\n",
       "      <td>0.849624</td>\n",
       "      <td>0.861163</td>\n",
       "      <td>0.008592</td>\n",
       "    </tr>\n",
       "    <tr>\n",
       "      <th>144</th>\n",
       "      <td>0.003620</td>\n",
       "      <td>0.000321</td>\n",
       "      <td>0.001036</td>\n",
       "      <td>0.000004</td>\n",
       "      <td>StandardScaler(copy=True, with_mean=True, with...</td>\n",
       "      <td>1</td>\n",
       "      <td>0.1</td>\n",
       "      <td>linear</td>\n",
       "      <td>{'scaler': StandardScaler(copy=True, with_mean...</td>\n",
       "      <td>0.835821</td>\n",
       "      <td>0.848485</td>\n",
       "      <td>0.830769</td>\n",
       "      <td>0.838384</td>\n",
       "      <td>0.007434</td>\n",
       "      <td>8</td>\n",
       "      <td>0.862595</td>\n",
       "      <td>0.871212</td>\n",
       "      <td>0.879699</td>\n",
       "      <td>0.871169</td>\n",
       "      <td>0.006983</td>\n",
       "    </tr>\n",
       "  </tbody>\n",
       "</table>\n",
       "</div>"
      ],
      "text/plain": [
       "     mean_fit_time  std_fit_time  mean_score_time  std_score_time  \\\n",
       "66        1.319799      0.717716         0.001177        0.000005   \n",
       "62        1.317334      0.703236         0.001176        0.000002   \n",
       "60        1.314708      0.700694         0.001150        0.000031   \n",
       "58        1.319333      0.712252         0.001194        0.000015   \n",
       "56        1.329868      0.709656         0.001170        0.000042   \n",
       "64        1.305953      0.706408         0.001170        0.000003   \n",
       "68        1.298684      0.703148         0.001189        0.000005   \n",
       "142       0.003625      0.000315         0.001043        0.000006   \n",
       "143       0.003024      0.000012         0.001112        0.000003   \n",
       "144       0.003620      0.000321         0.001036        0.000004   \n",
       "\n",
       "                                          param_scaler param_svm__C  \\\n",
       "66                                                None           10   \n",
       "62                                                None           10   \n",
       "60                                                None           10   \n",
       "58                                                None           10   \n",
       "56                                                None           10   \n",
       "64                                                None           10   \n",
       "68                                                None           10   \n",
       "142  StandardScaler(copy=True, with_mean=True, with...            1   \n",
       "143  StandardScaler(copy=True, with_mean=True, with...            1   \n",
       "144  StandardScaler(copy=True, with_mean=True, with...            1   \n",
       "\n",
       "    param_svm__gamma param_svm__kernel  \\\n",
       "66               100            linear   \n",
       "62                 1            linear   \n",
       "60               0.1            linear   \n",
       "58              0.01            linear   \n",
       "56             0.001            linear   \n",
       "64                10            linear   \n",
       "68              1000            linear   \n",
       "142             0.01            linear   \n",
       "143             0.01               rbf   \n",
       "144              0.1            linear   \n",
       "\n",
       "                                                params  split0_test_score  \\\n",
       "66   {'scaler': None, 'svm__C': 10.0, 'svm__gamma':...           0.850746   \n",
       "62   {'scaler': None, 'svm__C': 10.0, 'svm__gamma':...           0.850746   \n",
       "60   {'scaler': None, 'svm__C': 10.0, 'svm__gamma':...           0.850746   \n",
       "58   {'scaler': None, 'svm__C': 10.0, 'svm__gamma':...           0.850746   \n",
       "56   {'scaler': None, 'svm__C': 10.0, 'svm__gamma':...           0.850746   \n",
       "64   {'scaler': None, 'svm__C': 10.0, 'svm__gamma':...           0.850746   \n",
       "68   {'scaler': None, 'svm__C': 10.0, 'svm__gamma':...           0.850746   \n",
       "142  {'scaler': StandardScaler(copy=True, with_mean...           0.835821   \n",
       "143  {'scaler': StandardScaler(copy=True, with_mean...           0.820896   \n",
       "144  {'scaler': StandardScaler(copy=True, with_mean...           0.835821   \n",
       "\n",
       "     split1_test_score  split2_test_score  mean_test_score  std_test_score  \\\n",
       "66            0.863636           0.830769         0.848485        0.013464   \n",
       "62            0.863636           0.830769         0.848485        0.013464   \n",
       "60            0.863636           0.830769         0.848485        0.013464   \n",
       "58            0.863636           0.830769         0.848485        0.013464   \n",
       "56            0.863636           0.830769         0.848485        0.013464   \n",
       "64            0.863636           0.830769         0.848485        0.013464   \n",
       "68            0.863636           0.830769         0.848485        0.013464   \n",
       "142           0.848485           0.830769         0.838384        0.007434   \n",
       "143           0.848485           0.846154         0.838384        0.012543   \n",
       "144           0.848485           0.830769         0.838384        0.007434   \n",
       "\n",
       "     rank_test_score  split0_train_score  split1_train_score  \\\n",
       "66                 1            0.877863            0.871212   \n",
       "62                 1            0.877863            0.871212   \n",
       "60                 1            0.877863            0.871212   \n",
       "58                 1            0.877863            0.871212   \n",
       "56                 1            0.877863            0.871212   \n",
       "64                 1            0.877863            0.871212   \n",
       "68                 1            0.877863            0.871212   \n",
       "142                8            0.862595            0.871212   \n",
       "143                8            0.870229            0.863636   \n",
       "144                8            0.862595            0.871212   \n",
       "\n",
       "     split2_train_score  mean_train_score  std_train_score  \n",
       "66             0.872180          0.873752         0.002934  \n",
       "62             0.872180          0.873752         0.002934  \n",
       "60             0.872180          0.873752         0.002934  \n",
       "58             0.872180          0.873752         0.002934  \n",
       "56             0.872180          0.873752         0.002934  \n",
       "64             0.872180          0.873752         0.002934  \n",
       "68             0.872180          0.873752         0.002934  \n",
       "142            0.879699          0.871169         0.006983  \n",
       "143            0.849624          0.861163         0.008592  \n",
       "144            0.879699          0.871169         0.006983  "
      ]
     },
     "execution_count": 72,
     "metadata": {},
     "output_type": "execute_result"
    }
   ],
   "source": [
    "pd.DataFrame(gssvm.cv_results_).sort_values(\"rank_test_score\").head(10)"
   ]
  },
  {
   "cell_type": "markdown",
   "metadata": {},
   "source": [
    "## Valutazione dei migliori modelli ottenuti"
   ]
  },
  {
   "cell_type": "markdown",
   "metadata": {},
   "source": [
    "- Sebbene i risultati ottenuti dai tre modelli principali testati abbiano evidenziato accuratezze simili, si scelgono ora i due modelli ritenuti migliori e su di essi si applicano ulteriori metriche per valutarne più a fondo la bontà ottenuta.\n",
    "- Nello specifico, si sceglie il modello con rank più alto ottenuto dalla _K-Fold cross validation_ relativamente ai modelli basati su `Perceptron` e `Logistic Regression`"
   ]
  },
  {
   "cell_type": "markdown",
   "metadata": {},
   "source": [
    "- Confrontando le classi predette da un classificatore su un set di dati con quelle reali, si può ottenere la cosiddetta **_matrice di confusione_**\n",
    "- Ogni cella in riga $ i $ e colonna $ j $ indica quante istanze della classe $ i $-esima sono state etichettate dal classificatore come di classe $ j $-esima\n",
    "  - lungo la diagonale ($ i=j $) si hanno le classificazioni corrette, al di fuori gli errori"
   ]
  },
  {
   "cell_type": "markdown",
   "metadata": {},
   "source": [
    "- E' possibile ottenere facilmente la matrice col metodo `confusion_matrix()`, passando i vettori di classi reali e predette"
   ]
  },
  {
   "cell_type": "markdown",
   "metadata": {},
   "source": [
    "## Modello 1"
   ]
  },
  {
   "cell_type": "markdown",
   "metadata": {},
   "source": [
    " - **`Modello basato su Perceptron (con standardizzazione, senza regolarizzazione, alpha=0.001)`**"
   ]
  },
  {
   "cell_type": "code",
   "execution_count": 73,
   "metadata": {},
   "outputs": [],
   "source": [
    "from sklearn.metrics import confusion_matrix\n",
    "y_val_pred = gsp.best_estimator_.predict(X_val)\n",
    "cm = confusion_matrix(y_val, y_val_pred)"
   ]
  },
  {
   "cell_type": "markdown",
   "metadata": {},
   "source": [
    "- La matrice di confusione ottenuta per questo modello risulta essere"
   ]
  },
  {
   "cell_type": "code",
   "execution_count": 74,
   "metadata": {},
   "outputs": [
    {
     "data": {
      "text/html": [
       "<div>\n",
       "<style scoped>\n",
       "    .dataframe tbody tr th:only-of-type {\n",
       "        vertical-align: middle;\n",
       "    }\n",
       "\n",
       "    .dataframe tbody tr th {\n",
       "        vertical-align: top;\n",
       "    }\n",
       "\n",
       "    .dataframe thead th {\n",
       "        text-align: right;\n",
       "    }\n",
       "</style>\n",
       "<table border=\"1\" class=\"dataframe\">\n",
       "  <thead>\n",
       "    <tr style=\"text-align: right;\">\n",
       "      <th></th>\n",
       "      <th>Assenza malattia cardiaca</th>\n",
       "      <th>Presenza malattia cardiaca</th>\n",
       "    </tr>\n",
       "  </thead>\n",
       "  <tbody>\n",
       "    <tr>\n",
       "      <th>Assenza malattia cardiaca</th>\n",
       "      <td>52</td>\n",
       "      <td>1</td>\n",
       "    </tr>\n",
       "    <tr>\n",
       "      <th>Presenza malattia cardiaca</th>\n",
       "      <td>11</td>\n",
       "      <td>35</td>\n",
       "    </tr>\n",
       "  </tbody>\n",
       "</table>\n",
       "</div>"
      ],
      "text/plain": [
       "                            Assenza malattia cardiaca  \\\n",
       "Assenza malattia cardiaca                          52   \n",
       "Presenza malattia cardiaca                         11   \n",
       "\n",
       "                            Presenza malattia cardiaca  \n",
       "Assenza malattia cardiaca                            1  \n",
       "Presenza malattia cardiaca                          35  "
      ]
     },
     "execution_count": 74,
     "metadata": {},
     "output_type": "execute_result"
    }
   ],
   "source": [
    "classes = [\"Assenza malattia cardiaca\", \"Presenza malattia cardiaca\"]\n",
    "pd.DataFrame(cm, index=classes, columns=classes)"
   ]
  },
  {
   "cell_type": "markdown",
   "metadata": {},
   "source": [
    "- Dalla cui lettura possiamo dedurre diverse informazioni utili:\n",
    "    - su 46 pazienti affetti da una qualche malattia cardiaca presenti nel validation set, 35 sono stati etichettati dal modello come realmente tali (veri positivi), mentre 11 sono stati etichettati erroneamente come sani (falsi negativi)\n",
    "    - su 53 pazienti sani presenti nel validation set, 52 sono i veri negativi, 1 è falso positivo\n",
    "- Sulla diagonale sono presenti le classificazioni corrette, pertanto è possibile calcolare l'accuratezza direttamente come somma dei valori sulla diagonale diviso la somma complessiva dei valori"
   ]
  },
  {
   "cell_type": "code",
   "execution_count": 75,
   "metadata": {},
   "outputs": [
    {
     "data": {
      "text/plain": [
       "0.8787878787878788"
      ]
     },
     "execution_count": 75,
     "metadata": {},
     "output_type": "execute_result"
    }
   ],
   "source": [
    "cm.diagonal().sum() / cm.sum()"
   ]
  },
  {
   "cell_type": "markdown",
   "metadata": {},
   "source": [
    "- Che coincide con lo score che questo modello aveva trovato"
   ]
  },
  {
   "cell_type": "code",
   "execution_count": 76,
   "metadata": {},
   "outputs": [
    {
     "data": {
      "text/plain": [
       "True"
      ]
     },
     "execution_count": 76,
     "metadata": {},
     "output_type": "execute_result"
    }
   ],
   "source": [
    "np.equal(cm.diagonal().sum() / cm.sum(), gsp.best_estimator_.score(X_val, y_val))"
   ]
  },
  {
   "cell_type": "markdown",
   "metadata": {},
   "source": [
    "- Anche se nel caso preso in esame le classi non sono particolarmente sbilanciate, è possibile utilizzare degli indicatori complementari della bontà del modello, sempre sfruttando la matrice di confusione appena ottenuta"
   ]
  },
  {
   "cell_type": "markdown",
   "metadata": {},
   "source": [
    "- Presa una classe X di riferimento, la **_precision_** relativa a quella classe indica la percentuale di esempi classificati come X che sono realmente tali"
   ]
  },
  {
   "cell_type": "code",
   "execution_count": 77,
   "metadata": {},
   "outputs": [
    {
     "data": {
      "text/plain": [
       "0.8253968253968254"
      ]
     },
     "execution_count": 77,
     "metadata": {},
     "output_type": "execute_result"
    }
   ],
   "source": [
    "absence_precision = cm[0, 0] / cm[:, 0].sum()\n",
    "absence_precision"
   ]
  },
  {
   "cell_type": "code",
   "execution_count": 78,
   "metadata": {},
   "outputs": [
    {
     "data": {
      "text/plain": [
       "0.9722222222222222"
      ]
     },
     "execution_count": 78,
     "metadata": {},
     "output_type": "execute_result"
    }
   ],
   "source": [
    "presence_precision = cm[1, 1] / cm[:, 1].sum()\n",
    "presence_precision"
   ]
  },
  {
   "cell_type": "markdown",
   "metadata": {},
   "source": [
    "- Di contro, la **_recall_** indica la percentuale di esempi realmente di classe X che sono stati rilevati essere tali dal modello"
   ]
  },
  {
   "cell_type": "code",
   "execution_count": 79,
   "metadata": {},
   "outputs": [
    {
     "data": {
      "text/plain": [
       "0.9811320754716981"
      ]
     },
     "execution_count": 79,
     "metadata": {},
     "output_type": "execute_result"
    }
   ],
   "source": [
    "absence_recall = cm[0, 0] / cm[0, :].sum()\n",
    "absence_recall"
   ]
  },
  {
   "cell_type": "code",
   "execution_count": 80,
   "metadata": {},
   "outputs": [
    {
     "data": {
      "text/plain": [
       "0.7608695652173914"
      ]
     },
     "execution_count": 80,
     "metadata": {},
     "output_type": "execute_result"
    }
   ],
   "source": [
    "presence_recall = cm[1, 1] / cm[1, :].sum()\n",
    "presence_recall"
   ]
  },
  {
   "cell_type": "markdown",
   "metadata": {},
   "source": [
    "- Generalmente, tarando il modello per migliorare una delle due metriche, l'altra peggiora\n",
    "- Esiste un'altra metrica, la **_F1-measure_(X)**, ovvero la media armonica tra _precision_ e _recall_ rispetto ad una classe X\n",
    "$$ F_1(X) = \\frac{2 \\cdot P(X)\\cdot R(X)}{P(X)+R(X)} $$"
   ]
  },
  {
   "cell_type": "markdown",
   "metadata": {},
   "source": [
    "- Date due classi A e B, come unica misura della performance si può quindi usare la **_F1-measure_**, che è la media aritmentica della _F1-measure_ di ciascuna classe\n",
    "$$ F_1 = \\frac{F_1(A)+F_1(B)}{2} $$"
   ]
  },
  {
   "cell_type": "code",
   "execution_count": 81,
   "metadata": {},
   "outputs": [
    {
     "data": {
      "text/plain": [
       "0.8751051303616484"
      ]
     },
     "execution_count": 81,
     "metadata": {},
     "output_type": "execute_result"
    }
   ],
   "source": [
    "absence_f1_measure = 2 * absence_precision * absence_recall / (absence_precision + absence_recall)\n",
    "presence_f1_measure = 2 * presence_precision * presence_recall / (presence_precision + presence_recall)\n",
    "f1_measure = (absence_f1_measure + presence_f1_measure) / 2\n",
    "f1_measure"
   ]
  },
  {
   "cell_type": "markdown",
   "metadata": {},
   "source": [
    "- Per controllare la correttezza delle metriche appena calcolate, si utilizzano le funzioni `precision_score()`, `recall_score()` e `f1_score()` fornite da _scikit-learn_ \n",
    "  - il parametro `pos_label` indica la classe di riferimento, di default 1\n",
    "  - impostando il parametro `average=None` si ottiene un vettore di punteggi per tutte le classi\n",
    "  - impostando il parametro `average=\"macro\"` si ottiene la loro media"
   ]
  },
  {
   "cell_type": "code",
   "execution_count": 82,
   "metadata": {},
   "outputs": [],
   "source": [
    "from sklearn.metrics import precision_score, recall_score, f1_score"
   ]
  },
  {
   "cell_type": "code",
   "execution_count": 83,
   "metadata": {},
   "outputs": [
    {
     "data": {
      "text/plain": [
       "0.8253968253968254"
      ]
     },
     "execution_count": 83,
     "metadata": {},
     "output_type": "execute_result"
    }
   ],
   "source": [
    "precision_score(y_val, y_val_pred, pos_label=0)"
   ]
  },
  {
   "cell_type": "code",
   "execution_count": 84,
   "metadata": {},
   "outputs": [
    {
     "data": {
      "text/plain": [
       "0.9722222222222222"
      ]
     },
     "execution_count": 84,
     "metadata": {},
     "output_type": "execute_result"
    }
   ],
   "source": [
    "precision_score(y_val, y_val_pred)"
   ]
  },
  {
   "cell_type": "code",
   "execution_count": 85,
   "metadata": {},
   "outputs": [
    {
     "data": {
      "text/plain": [
       "0.9811320754716981"
      ]
     },
     "execution_count": 85,
     "metadata": {},
     "output_type": "execute_result"
    }
   ],
   "source": [
    "recall_score(y_val, y_val_pred, pos_label=0)"
   ]
  },
  {
   "cell_type": "code",
   "execution_count": 86,
   "metadata": {},
   "outputs": [
    {
     "data": {
      "text/plain": [
       "0.7608695652173914"
      ]
     },
     "execution_count": 86,
     "metadata": {},
     "output_type": "execute_result"
    }
   ],
   "source": [
    "recall_score(y_val, y_val_pred)"
   ]
  },
  {
   "cell_type": "code",
   "execution_count": 87,
   "metadata": {},
   "outputs": [
    {
     "data": {
      "text/plain": [
       "array([0.89655172, 0.85365854])"
      ]
     },
     "execution_count": 87,
     "metadata": {},
     "output_type": "execute_result"
    }
   ],
   "source": [
    "f1_score(y_val, y_val_pred, average=None)"
   ]
  },
  {
   "cell_type": "code",
   "execution_count": 88,
   "metadata": {},
   "outputs": [
    {
     "data": {
      "text/plain": [
       "0.8751051303616484"
      ]
     },
     "execution_count": 88,
     "metadata": {},
     "output_type": "execute_result"
    }
   ],
   "source": [
    "f1_score(y_val, y_val_pred, average=\"macro\")"
   ]
  },
  {
   "cell_type": "markdown",
   "metadata": {},
   "source": [
    "## Modello 2"
   ]
  },
  {
   "cell_type": "markdown",
   "metadata": {},
   "source": [
    "- **`Modello basato su Logistic Regression (con standardizzazione, con regolarizzazione l2, C=0.01)`**"
   ]
  },
  {
   "cell_type": "code",
   "execution_count": 89,
   "metadata": {},
   "outputs": [],
   "source": [
    "from sklearn.metrics import confusion_matrix\n",
    "y_val_pred = gslr.best_estimator_.predict(X_val)\n",
    "cm = confusion_matrix(y_val, y_val_pred)"
   ]
  },
  {
   "cell_type": "markdown",
   "metadata": {},
   "source": [
    "- La matrice di confusione ottenuta per questo modello risulta essere"
   ]
  },
  {
   "cell_type": "code",
   "execution_count": 90,
   "metadata": {},
   "outputs": [
    {
     "data": {
      "text/html": [
       "<div>\n",
       "<style scoped>\n",
       "    .dataframe tbody tr th:only-of-type {\n",
       "        vertical-align: middle;\n",
       "    }\n",
       "\n",
       "    .dataframe tbody tr th {\n",
       "        vertical-align: top;\n",
       "    }\n",
       "\n",
       "    .dataframe thead th {\n",
       "        text-align: right;\n",
       "    }\n",
       "</style>\n",
       "<table border=\"1\" class=\"dataframe\">\n",
       "  <thead>\n",
       "    <tr style=\"text-align: right;\">\n",
       "      <th></th>\n",
       "      <th>Assenza malattia cardiaca</th>\n",
       "      <th>Presenza malattia cardiaca</th>\n",
       "    </tr>\n",
       "  </thead>\n",
       "  <tbody>\n",
       "    <tr>\n",
       "      <th>Assenza malattia cardiaca</th>\n",
       "      <td>48</td>\n",
       "      <td>5</td>\n",
       "    </tr>\n",
       "    <tr>\n",
       "      <th>Presenza malattia cardiaca</th>\n",
       "      <td>9</td>\n",
       "      <td>37</td>\n",
       "    </tr>\n",
       "  </tbody>\n",
       "</table>\n",
       "</div>"
      ],
      "text/plain": [
       "                            Assenza malattia cardiaca  \\\n",
       "Assenza malattia cardiaca                          48   \n",
       "Presenza malattia cardiaca                          9   \n",
       "\n",
       "                            Presenza malattia cardiaca  \n",
       "Assenza malattia cardiaca                            5  \n",
       "Presenza malattia cardiaca                          37  "
      ]
     },
     "execution_count": 90,
     "metadata": {},
     "output_type": "execute_result"
    }
   ],
   "source": [
    "classes = [\"Assenza malattia cardiaca\", \"Presenza malattia cardiaca\"]\n",
    "pd.DataFrame(cm, index=classes, columns=classes)"
   ]
  },
  {
   "cell_type": "markdown",
   "metadata": {},
   "source": [
    "- Dalla quale si possono fare conclusioni analoghe a quelle fatte per il precedente modello analizzato"
   ]
  },
  {
   "cell_type": "code",
   "execution_count": 91,
   "metadata": {},
   "outputs": [
    {
     "data": {
      "text/plain": [
       "0.8585858585858586"
      ]
     },
     "execution_count": 91,
     "metadata": {},
     "output_type": "execute_result"
    }
   ],
   "source": [
    "cm.diagonal().sum() / cm.sum()"
   ]
  },
  {
   "cell_type": "markdown",
   "metadata": {},
   "source": [
    "- Che coincide con lo score che questo modello aveva trovato"
   ]
  },
  {
   "cell_type": "code",
   "execution_count": 92,
   "metadata": {},
   "outputs": [
    {
     "data": {
      "text/plain": [
       "True"
      ]
     },
     "execution_count": 92,
     "metadata": {},
     "output_type": "execute_result"
    }
   ],
   "source": [
    "np.equal(cm.diagonal().sum() / cm.sum(), gslr.best_estimator_.score(X_val, y_val))"
   ]
  },
  {
   "cell_type": "markdown",
   "metadata": {},
   "source": [
    "- Usando direttamente _scikit-learn_, si calcolano le restanti metriche"
   ]
  },
  {
   "cell_type": "code",
   "execution_count": 93,
   "metadata": {},
   "outputs": [
    {
     "data": {
      "text/plain": [
       "0.8421052631578947"
      ]
     },
     "execution_count": 93,
     "metadata": {},
     "output_type": "execute_result"
    }
   ],
   "source": [
    "precision_score(y_val, y_val_pred, pos_label=0)"
   ]
  },
  {
   "cell_type": "code",
   "execution_count": 94,
   "metadata": {},
   "outputs": [
    {
     "data": {
      "text/plain": [
       "0.8809523809523809"
      ]
     },
     "execution_count": 94,
     "metadata": {},
     "output_type": "execute_result"
    }
   ],
   "source": [
    "precision_score(y_val, y_val_pred)"
   ]
  },
  {
   "cell_type": "code",
   "execution_count": 95,
   "metadata": {},
   "outputs": [
    {
     "data": {
      "text/plain": [
       "0.9056603773584906"
      ]
     },
     "execution_count": 95,
     "metadata": {},
     "output_type": "execute_result"
    }
   ],
   "source": [
    "recall_score(y_val, y_val_pred, pos_label=0)"
   ]
  },
  {
   "cell_type": "code",
   "execution_count": 96,
   "metadata": {},
   "outputs": [
    {
     "data": {
      "text/plain": [
       "0.8043478260869565"
      ]
     },
     "execution_count": 96,
     "metadata": {},
     "output_type": "execute_result"
    }
   ],
   "source": [
    "recall_score(y_val, y_val_pred)"
   ]
  },
  {
   "cell_type": "code",
   "execution_count": 97,
   "metadata": {},
   "outputs": [
    {
     "data": {
      "text/plain": [
       "array([0.87272727, 0.84090909])"
      ]
     },
     "execution_count": 97,
     "metadata": {},
     "output_type": "execute_result"
    }
   ],
   "source": [
    "f1_score(y_val, y_val_pred, average=None)"
   ]
  },
  {
   "cell_type": "code",
   "execution_count": 98,
   "metadata": {},
   "outputs": [
    {
     "data": {
      "text/plain": [
       "0.8568181818181817"
      ]
     },
     "execution_count": 98,
     "metadata": {},
     "output_type": "execute_result"
    }
   ],
   "source": [
    "f1_score(y_val, y_val_pred, average=\"macro\")"
   ]
  },
  {
   "cell_type": "markdown",
   "metadata": {},
   "source": [
    "- Si può concludere che il modello migliore trovato su questo problema di classificazione è il **`Modello 1`**\n",
    "    - **`Accuratezza`** = 87.88%\n",
    "    - **`F1-measure`** = 0.8751"
   ]
  },
  {
   "cell_type": "markdown",
   "metadata": {},
   "source": [
    "## Confronto dell'accuratezza dei due modelli"
   ]
  },
  {
   "cell_type": "markdown",
   "metadata": {},
   "source": [
    "- E' anche possibile procedere confrontando l'accuratezza di questi due modelli per stabilire se la loro differenza sia statisticamente significativa"
   ]
  },
  {
   "cell_type": "markdown",
   "metadata": {},
   "source": [
    "- Il **`Modello 1`** ha  \n",
    "    - **`n1`** = 297 (istanze)\n",
    "    - **`e1`** = 0.12 (errore)\n",
    "- Il **`Modello 2`** ha  \n",
    "    - **`n2`** = 297 (istanze)\n",
    "    - **`e2`** = 0.14 (errore) "
   ]
  },
  {
   "cell_type": "markdown",
   "metadata": {},
   "source": [
    "- La differenza da stimare risulta essere:\n",
    "$$ d_t = d \\pm Z_{\\alpha/2} \\hat\\sigma_t $$  \n",
    "dove:\n",
    "    - $ d = |e_1 - e_2|$\n",
    "    - $ Z_{\\alpha/2} $ è il valore trovato nella tabella corrispondente alla confidenza che si vuole fissare  \n",
    "\n",
    "\n",
    "- Sapendo che la _varianza_ si ottiene come segue  \n",
    "$$ \\sigma_t^2 = \\sigma_1^2 + \\sigma_2^2 \\simeq \\hat\\sigma_1^2 + \\hat\\sigma_2^2$$  \n",
    "con\n",
    "$$ \\hat\\sigma_i^2 = \\frac{e_i(1 - e_i)}{n_i} $$  \n",
    "e che la confidenza $ 1-\\alpha = 0.95 $ e di conseguenza $ Z_{\\alpha/2} = 1.96 $, si può calcolare l'intervallo $ d_t $"
   ]
  },
  {
   "cell_type": "code",
   "execution_count": 99,
   "metadata": {},
   "outputs": [
    {
     "data": {
      "text/plain": [
       "'[-0.03406697430444679, 0.07406697430444682]'"
      ]
     },
     "execution_count": 99,
     "metadata": {},
     "output_type": "execute_result"
    }
   ],
   "source": [
    "n1 = n2 = 297\n",
    "e1 = 0.12\n",
    "e2 = 0.14\n",
    "Z = 1.96\n",
    "d = np.abs(e1 - e2)\n",
    "sigma_1 = (e1 * (1 - e1)) / n1\n",
    "sigma_2 = (e2 * (1 - e2)) / n2\n",
    "sigma = sigma_1 + sigma_2\n",
    "d_t_left = d - Z * np.sqrt(sigma)\n",
    "d_t_right = d + Z * np.sqrt(sigma)\n",
    "\"[{}, {}]\".format(d_t_left, d_t_right)"
   ]
  },
  {
   "cell_type": "markdown",
   "metadata": {},
   "source": [
    "- Si può infine concludere che, nonostante il **`Modello 1`** sia leggermente più accurato dell'altro, l'intervallo calcolato contiene lo zero, quindi **la differenza tra le accuratezze dei due modelli non è statisticamente significativa**"
   ]
  }
 ],
 "metadata": {
  "kernelspec": {
   "display_name": "Python 3",
   "language": "python",
   "name": "python3"
  },
  "language_info": {
   "codemirror_mode": {
    "name": "ipython",
    "version": 3
   },
   "file_extension": ".py",
   "mimetype": "text/x-python",
   "name": "python",
   "nbconvert_exporter": "python",
   "pygments_lexer": "ipython3",
   "version": "3.7.2"
  }
 },
 "nbformat": 4,
 "nbformat_minor": 2
}
